{
 "cells": [
  {
   "cell_type": "code",
   "execution_count": null,
   "metadata": {},
   "outputs": [],
   "source": []
  },
  {
   "cell_type": "markdown",
   "metadata": {},
   "source": [
    "# Import library"
   ]
  },
  {
   "cell_type": "code",
   "execution_count": 91,
   "metadata": {},
   "outputs": [],
   "source": [
    "import pandas as pd \n",
    "import numpy as np \n",
    "import seaborn as sns \n",
    "import matplotlib.pyplot as plt \n",
    "%matplotlib inline \n",
    "import plotly.express as px"
   ]
  },
  {
   "cell_type": "code",
   "execution_count": 16,
   "metadata": {},
   "outputs": [],
   "source": [
    "from sklearn.model_selection import train_test_split\n",
    "from sklearn.linear_model import LinearRegression\n",
    "from sklearn.metrics import r2_score, mean_squared_error\n",
    "from sklearn import linear_model\n",
    "from sklearn.preprocessing import StandardScaler\n",
    "from sklearn.preprocessing import normalize"
   ]
  },
  {
   "cell_type": "markdown",
   "metadata": {},
   "source": [
    "<a id = 'ref2'></a> \n",
    "<h2>Data Dictionary </h2>\n",
    "<ol>\n",
    "<li>Cement-- quantitative -- kg in a m3 mixture -- Input Variable</li>\n",
    "<li>Blast Furnace Slag -- quantitative -- kg in a m3 mixture -- Input Variable</li>\n",
    "<li>Fly Ash  -- quantitative -- kg in a m3 mixture -- Input Variable</li>\n",
    "<li>Water -- quantitative -- kg in a m3 mixture -- Input Variable</li>\n",
    "<li>Superplasticizer -- quantitative -- kg in a m3 mixture -- Input Variable</li>\n",
    "<li>Coarse Aggregate -- quantitative -- kg in a m3 mixture -- Input Variable</li>\n",
    "<li>Fine Aggregate  -- quantitative -- kg in a m3 mixture -- Input Variable</li>\n",
    "<li>Age -- quantitative -- Day (1~365) -- Input Variable</li>\n",
    "<li>Concrete compressive strength -- quantitative -- MPa -- Output Variable</li>\n",
    "</ol>"
   ]
  },
  {
   "cell_type": "code",
   "execution_count": 17,
   "metadata": {},
   "outputs": [
    {
     "data": {
      "text/html": [
       "<div>\n",
       "<style scoped>\n",
       "    .dataframe tbody tr th:only-of-type {\n",
       "        vertical-align: middle;\n",
       "    }\n",
       "\n",
       "    .dataframe tbody tr th {\n",
       "        vertical-align: top;\n",
       "    }\n",
       "\n",
       "    .dataframe thead th {\n",
       "        text-align: right;\n",
       "    }\n",
       "</style>\n",
       "<table border=\"1\" class=\"dataframe\">\n",
       "  <thead>\n",
       "    <tr style=\"text-align: right;\">\n",
       "      <th></th>\n",
       "      <th>cement</th>\n",
       "      <th>slag</th>\n",
       "      <th>ash</th>\n",
       "      <th>water</th>\n",
       "      <th>superplastic</th>\n",
       "      <th>coarseagg</th>\n",
       "      <th>fineagg</th>\n",
       "      <th>age</th>\n",
       "      <th>strength</th>\n",
       "    </tr>\n",
       "  </thead>\n",
       "  <tbody>\n",
       "    <tr>\n",
       "      <th>0</th>\n",
       "      <td>141.3</td>\n",
       "      <td>212.0</td>\n",
       "      <td>0.0</td>\n",
       "      <td>203.5</td>\n",
       "      <td>0.0</td>\n",
       "      <td>971.8</td>\n",
       "      <td>748.5</td>\n",
       "      <td>28</td>\n",
       "      <td>29.89</td>\n",
       "    </tr>\n",
       "    <tr>\n",
       "      <th>1</th>\n",
       "      <td>168.9</td>\n",
       "      <td>42.2</td>\n",
       "      <td>124.3</td>\n",
       "      <td>158.3</td>\n",
       "      <td>10.8</td>\n",
       "      <td>1080.8</td>\n",
       "      <td>796.2</td>\n",
       "      <td>14</td>\n",
       "      <td>23.51</td>\n",
       "    </tr>\n",
       "    <tr>\n",
       "      <th>2</th>\n",
       "      <td>250.0</td>\n",
       "      <td>0.0</td>\n",
       "      <td>95.7</td>\n",
       "      <td>187.4</td>\n",
       "      <td>5.5</td>\n",
       "      <td>956.9</td>\n",
       "      <td>861.2</td>\n",
       "      <td>28</td>\n",
       "      <td>29.22</td>\n",
       "    </tr>\n",
       "    <tr>\n",
       "      <th>3</th>\n",
       "      <td>266.0</td>\n",
       "      <td>114.0</td>\n",
       "      <td>0.0</td>\n",
       "      <td>228.0</td>\n",
       "      <td>0.0</td>\n",
       "      <td>932.0</td>\n",
       "      <td>670.0</td>\n",
       "      <td>28</td>\n",
       "      <td>45.85</td>\n",
       "    </tr>\n",
       "    <tr>\n",
       "      <th>4</th>\n",
       "      <td>154.8</td>\n",
       "      <td>183.4</td>\n",
       "      <td>0.0</td>\n",
       "      <td>193.3</td>\n",
       "      <td>9.1</td>\n",
       "      <td>1047.4</td>\n",
       "      <td>696.7</td>\n",
       "      <td>28</td>\n",
       "      <td>18.29</td>\n",
       "    </tr>\n",
       "  </tbody>\n",
       "</table>\n",
       "</div>"
      ],
      "text/plain": [
       "   cement   slag    ash  water  superplastic  coarseagg  fineagg  age  \\\n",
       "0   141.3  212.0    0.0  203.5           0.0      971.8    748.5   28   \n",
       "1   168.9   42.2  124.3  158.3          10.8     1080.8    796.2   14   \n",
       "2   250.0    0.0   95.7  187.4           5.5      956.9    861.2   28   \n",
       "3   266.0  114.0    0.0  228.0           0.0      932.0    670.0   28   \n",
       "4   154.8  183.4    0.0  193.3           9.1     1047.4    696.7   28   \n",
       "\n",
       "   strength  \n",
       "0     29.89  \n",
       "1     23.51  \n",
       "2     29.22  \n",
       "3     45.85  \n",
       "4     18.29  "
      ]
     },
     "execution_count": 17,
     "metadata": {},
     "output_type": "execute_result"
    }
   ],
   "source": [
    "data = pd.read_csv(r\"C:\\Users\\rakes\\Documents\\Raq files\\Data Science\\Data sets\\concrete.csv\")\n",
    "data.head()"
   ]
  },
  {
   "cell_type": "markdown",
   "metadata": {},
   "source": [
    "<a id = \"ref3\"></a>\n",
    "<h2>Discriptive statistics about data</h2>"
   ]
  },
  {
   "cell_type": "code",
   "execution_count": 27,
   "metadata": {},
   "outputs": [
    {
     "name": "stdout",
     "output_type": "stream",
     "text": [
      "Here is some Basic Ground Info about your Data:\n",
      "\n",
      "Number of Instances: 1030\n",
      "Number of Features: 9\n",
      "\n",
      "Summary Stats:\n",
      "            cement         slag          ash        water  superplastic  \\\n",
      "count  1030.000000  1030.000000  1030.000000  1030.000000   1030.000000   \n",
      "mean    281.167864    73.895825    54.188350   181.567282      6.204660   \n",
      "std     104.506364    86.279342    63.997004    21.354219      5.973841   \n",
      "min     102.000000     0.000000     0.000000   121.800000      0.000000   \n",
      "25%     192.375000     0.000000     0.000000   164.900000      0.000000   \n",
      "50%     272.900000    22.000000     0.000000   185.000000      6.400000   \n",
      "75%     350.000000   142.950000   118.300000   192.000000     10.200000   \n",
      "max     540.000000   359.400000   200.100000   247.000000     32.200000   \n",
      "\n",
      "         coarseagg      fineagg          age     strength  \n",
      "count  1030.000000  1030.000000  1030.000000  1030.000000  \n",
      "mean    972.918932   773.580485    45.662136    35.817961  \n",
      "std      77.753954    80.175980    63.169912    16.705742  \n",
      "min     801.000000   594.000000     1.000000     2.330000  \n",
      "25%     932.000000   730.950000     7.000000    23.710000  \n",
      "50%     968.000000   779.500000    28.000000    34.445000  \n",
      "75%    1029.400000   824.000000    56.000000    46.135000  \n",
      "max    1145.000000   992.600000   365.000000    82.600000  \n",
      "\n",
      "Missing Values:\n",
      "cement          0\n",
      "slag            0\n",
      "ash             0\n",
      "water           0\n",
      "superplastic    0\n",
      "coarseagg       0\n",
      "fineagg         0\n",
      "age             0\n",
      "strength        0\n",
      "dtype: int64\n"
     ]
    }
   ],
   "source": [
    "# Understanding the basic ground information of my data\n",
    "def all_about_my_data(data):\n",
    "    print(\"Here is some Basic Ground Info about your Data:\\n\")\n",
    "    \n",
    "    # Shape of the dataframe\n",
    "    print(\"Number of Instances:\",data.shape[0])\n",
    "    print(\"Number of Features:\",data.shape[1])\n",
    "    \n",
    "    # Summary Stats\n",
    "    print(\"\\nSummary Stats:\")\n",
    "    print(data.describe())\n",
    "    \n",
    "    # Missing Value Inspection\n",
    "    print(\"\\nMissing Values:\")\n",
    "    print(data.isna().sum())\n",
    "\n",
    "all_about_my_data(data)"
   ]
  },
  {
   "cell_type": "code",
   "execution_count": 105,
   "metadata": {},
   "outputs": [
    {
     "data": {
      "image/png": "[encoded data removed]",
      "text/plain": [
       "<Figure size 1296x576 with 8 Axes>"
      ]
     },
     "metadata": {
      "needs_background": "light"
     },
     "output_type": "display_data"
    }
   ],
   "source": [
    "rows = 2 \n",
    "columns = 4\n",
    "col = data.columns\n",
    "index = 0 \n",
    "fig, ax = plt.subplots(nrows= rows, ncols= columns, figsize = (18,8))\n",
    "\n",
    "for i in range(rows):\n",
    "    for j in range(columns):\n",
    "        sns.distplot(data[col[index]], ax = ax[i][j])\n",
    "        index = index + 1\n",
    "plt.tight_layout()"
   ]
  },
  {
   "cell_type": "markdown",
   "metadata": {},
   "source": [
    "<a id = \"ref4\"></a>\n",
    "<h2>Univariate, Bivariate, multivariate analysis</h2>"
   ]
  },
  {
   "cell_type": "code",
   "execution_count": 98,
   "metadata": {},
   "outputs": [],
   "source": [
    "class Analysis:\n",
    "    \n",
    "    def __init__(self):\n",
    "        print(\"univariate object created\")\n",
    "        \n",
    "    @staticmethod   \n",
    "    def Histogram(x= None, y=None):\n",
    "        fig = px.histogram(x=x)\n",
    "        fig.show()\n",
    "        \n",
    "    @staticmethod    \n",
    "    def scatterplot(x= None, y=None):\n",
    "        fig = px.scatter(x=x, y=y)\n",
    "        fig.show()\n",
    "        \n",
    "    @staticmethod\n",
    "    def Heatmap(data= None):\n",
    "        corelation = data.corr()\n",
    "        plt.figure(figsize = (20,20))\n",
    "        sns.heatmap(corelation, annot = True, cmap=\"BrBG\")\n",
    "        plt.show()\n",
    "        \n",
    "    @staticmethod\n",
    "    def Jointplot(x= None, y= None):\n",
    "        plt.figure(figsize = (20,20))    \n",
    "        sns.jointplot(x=x, y=y, height=10, ratio=3, color=\"lime\")\n",
    "        plt.show()\n",
    "    "
   ]
  },
  {
   "cell_type": "code",
   "execution_count": 99,
   "metadata": {},
   "outputs": [
    {
     "name": "stdout",
     "output_type": "stream",
     "text": [
      "univariate object created\n"
     ]
    }
   ],
   "source": [
    "v1 = Analysis()"
   ]
  },
  {
   "cell_type": "code",
   "execution_count": 89,
   "metadata": {},
   "outputs": [
    {
     "data": {
      "application/vnd.plotly.v1+json": {
       "config": {
        "plotlyServerURL": "https://plot.ly"
       },
       "data": [
        {
         "alignmentgroup": "True",
         "bingroup": "x",
         "hoverlabel": {
          "namelength": 0
         },
         "hovertemplate": "x=%{x}<br>count=%{y}",
         "legendgroup": "",
         "marker": {
          "color": "#636efa"
         },
         "name": "",
         "offsetgroup": "",
         "orientation": "v",
         "showlegend": false,
         "type": "histogram",
         "x": [
          29.89,
          23.51,
          29.22,
          45.85,
          18.29,
          21.86,
          15.75,
          36.64,
          21.65,
          28.99,
          36.35,
          6.94,
          27.92,
          26.26,
          23.89,
          49.97,
          30.08,
          44.86,
          15.04,
          25.1,
          13.36,
          21.92,
          20.42,
          33.3,
          31.74,
          45.3,
          49.19,
          65.2,
          21.54,
          33.8,
          32.04,
          39.29,
          23.74,
          44.52,
          37.91,
          39.16,
          16.88,
          47.71,
          17.54,
          41.41,
          24.28,
          60.32,
          37.42,
          23.52,
          59.2,
          61.46,
          17.2,
          40.68,
          49.9,
          33.4,
          49.25,
          39,
          37.27,
          39.3,
          38.22,
          20.28,
          48.67,
          34.57,
          35.23,
          42.35,
          20.73,
          10.38,
          37.34,
          54.9,
          41.05,
          29.98,
          28.63,
          44.3,
          52.04,
          49.8,
          11.41,
          50.46,
          28.1,
          26.92,
          45.08,
          36.94,
          24.13,
          19.42,
          27.42,
          39.15,
          28.47,
          31.02,
          31.25,
          43.06,
          12.84,
          32.24,
          67.57,
          26.31,
          35.3,
          23.8,
          14.59,
          55.9,
          21.5,
          41.84,
          4.9,
          57.23,
          71.3,
          33.4,
          33.4,
          36.25,
          32.96,
          61.89,
          36.8,
          53.1,
          11.98,
          23.85,
          9.74,
          14.5,
          12.18,
          38.63,
          55.65,
          12.05,
          27.68,
          31.35,
          18.13,
          12.79,
          37.36,
          39.4,
          29.45,
          33.36,
          16.26,
          39.64,
          23.79,
          45.94,
          61.07,
          31.03,
          33.19,
          21.86,
          74.7,
          62.5,
          27.77,
          31.88,
          9.99,
          25.08,
          13.22,
          56.34,
          43.57,
          46.68,
          6.88,
          30.65,
          33.72,
          30.39,
          37.72,
          42.8,
          26.74,
          32.53,
          33.21,
          55.51,
          46.68,
          41.15,
          29.59,
          32.84,
          29.59,
          33.01,
          11.47,
          23.84,
          56.4,
          44.3,
          22.35,
          55.26,
          31.45,
          67.7,
          18.13,
          60.28,
          33.4,
          17.24,
          44.42,
          37.68,
          35.34,
          52.42,
          57.03,
          48.59,
          12.47,
          44.28,
          48.85,
          17.58,
          10.03,
          40.6,
          43.38,
          14.2,
          24.48,
          59.49,
          63.4,
          7.68,
          9.85,
          22.53,
          32.88,
          13.71,
          60.95,
          44.87,
          77.3,
          61.99,
          81.75,
          30.88,
          23.79,
          22.44,
          26.77,
          68.1,
          52.91,
          32.33,
          33.95,
          39.46,
          25.45,
          45.84,
          18.03,
          24.29,
          29.07,
          46.93,
          59.89,
          39.49,
          22.93,
          39,
          52.2,
          19.52,
          37.36,
          26.97,
          66.42,
          11.96,
          14.7,
          13.62,
          26.94,
          23.64,
          35.34,
          24,
          25.75,
          36.8,
          51.72,
          29.87,
          35.76,
          64.9,
          2.33,
          18.02,
          69.3,
          27.83,
          50.51,
          6.47,
          18,
          9.73,
          24.58,
          71.7,
          41.05,
          41.54,
          26.2,
          52.43,
          48.79,
          79.3,
          3.32,
          40.15,
          12.25,
          29.23,
          40.23,
          34.74,
          26.86,
          31.35,
          33.27,
          20.77,
          67.11,
          79.4,
          42.29,
          37.8,
          49.77,
          17.24,
          51.73,
          28.63,
          65.91,
          15.62,
          61.23,
          32.72,
          13.66,
          36.97,
          55.16,
          12.46,
          40.86,
          74.5,
          33.76,
          55.64,
          37.91,
          43.58,
          33.4,
          66,
          41.64,
          43.94,
          37.42,
          42.23,
          29.72,
          51.86,
          64.9,
          12.37,
          26.23,
          39.38,
          17.54,
          52.91,
          70.7,
          56.83,
          26.91,
          17.6,
          37.4,
          42.13,
          33.4,
          9.13,
          37.92,
          51.04,
          52.12,
          45.9,
          26.86,
          22.44,
          38.07,
          55.55,
          34.67,
          15.42,
          42.22,
          19.77,
          24.1,
          74.17,
          14.8,
          13.46,
          30.22,
          22.14,
          51.06,
          31.84,
          64.02,
          31.54,
          34.4,
          44.7,
          17.96,
          40.39,
          25.62,
          32.66,
          16.89,
          47.81,
          31.81,
          33.42,
          7.32,
          19.69,
          28.3,
          31.35,
          52.96,
          76.8,
          29.87,
          47.78,
          33.73,
          45.37,
          42.03,
          32.63,
          37.27,
          46.24,
          53.52,
          50.73,
          51.26,
          40.86,
          32.1,
          17.37,
          37.81,
          40.93,
          7.51,
          52.5,
          29.07,
          8.06,
          24.92,
          42.62,
          23.69,
          33.7,
          11.17,
          46.25,
          54.32,
          26.32,
          42.7,
          17.34,
          19.42,
          33.69,
          48.7,
          31.64,
          35.85,
          50.7,
          25.97,
          4.83,
          35.17,
          32.07,
          9.74,
          43.89,
          28.02,
          25.72,
          9.01,
          65.91,
          21.95,
          43.38,
          47.13,
          35.96,
          15.69,
          32.76,
          25.46,
          10.73,
          49.2,
          56.14,
          23.08,
          56.62,
          55.5,
          30.12,
          39.42,
          33.09,
          35.3,
          39.36,
          37.43,
          45.3,
          15.52,
          41.68,
          31.35,
          4.57,
          54.6,
          24.05,
          31.42,
          58.61,
          65.7,
          10.76,
          53.52,
          57.22,
          41.68,
          17.28,
          57.6,
          54.28,
          35.3,
          13.29,
          13.82,
          44.52,
          27.74,
          74.19,
          42.92,
          17.22,
          51.33,
          6.9,
          15.82,
          61.09,
          24.24,
          60.29,
          39.38,
          48.4,
          53.39,
          23.84,
          17.84,
          8.2,
          38.77,
          37.44,
          35.75,
          31.72,
          33.04,
          40.56,
          55.02,
          45.7,
          41.24,
          43.57,
          37.26,
          64.9,
          74.99,
          56.14,
          21.18,
          38,
          50.53,
          25.37,
          43.7,
          28.99,
          32.72,
          44.33,
          39.23,
          77.3,
          32.05,
          43.7,
          39.3,
          33.72,
          19.69,
          71.99,
          12.45,
          26.92,
          38.8,
          66.78,
          40.87,
          11.47,
          73.3,
          41.54,
          21.06,
          50.94,
          40.06,
          42.14,
          65.2,
          25.12,
          39,
          27.87,
          37.43,
          39.84,
          44.14,
          64.3,
          33.49,
          76.24,
          10.54,
          79.3,
          30.45,
          13.54,
          46.23,
          36.99,
          31.97,
          52.82,
          49.99,
          31.65,
          12.64,
          22.9,
          29,
          24,
          78.8,
          33.94,
          39.7,
          8.37,
          25.2,
          25.18,
          38.46,
          15.09,
          51.96,
          15.44,
          19.54,
          64.3,
          33.69,
          40.66,
          24.39,
          35.87,
          51.02,
          14.54,
          58.52,
          71.3,
          26.06,
          65.2,
          32.4,
          68.75,
          33.12,
          19.2,
          72.99,
          50.77,
          48.99,
          19.93,
          24.43,
          47.97,
          46.9,
          50.95,
          58.78,
          29.16,
          6.81,
          46.2,
          18.03,
          72.1,
          37.43,
          15.03,
          19.77,
          43.73,
          6.28,
          49.77,
          31.97,
          47.1,
          27.66,
          27.94,
          47.22,
          32.9,
          13.33,
          47.4,
          25.56,
          24.28,
          42.42,
          25.57,
          39.7,
          43.5,
          26.14,
          18.28,
          13.12,
          72.3,
          50.66,
          33.66,
          44.03,
          23.25,
          55.25,
          66.7,
          55.9,
          60.29,
          40.57,
          30.57,
          44.21,
          61.92,
          42.55,
          32.96,
          60.2,
          56.06,
          36.56,
          7.75,
          33.05,
          32.25,
          45.37,
          25.18,
          10.34,
          74.36,
          36.45,
          13.52,
          28.94,
          24.9,
          53.72,
          13.2,
          11.36,
          38.89,
          15.42,
          21.82,
          77.3,
          32.4,
          14.14,
          33.54,
          69.84,
          38.6,
          40.86,
          56.1,
          19.11,
          30.23,
          61.86,
          59.59,
          55.2,
          14.84,
          38.33,
          27.04,
          39.78,
          15.52,
          40.76,
          53.3,
          42.13,
          47.74,
          43.25,
          25.51,
          18.91,
          31.18,
          29.93,
          35.36,
          54.38,
          11.85,
          52.3,
          57.21,
          14.2,
          23.52,
          8,
          39.3,
          54.1,
          14.31,
          41.72,
          40.71,
          29.55,
          18.75,
          33.8,
          31.18,
          39.42,
          24.4,
          8.49,
          26.4,
          38.6,
          66.95,
          55.55,
          12.54,
          39.94,
          23.52,
          55.94,
          12.73,
          39.27,
          59.76,
          24.85,
          36.84,
          11.39,
          28.63,
          27.92,
          9.31,
          22.72,
          10.54,
          23.14,
          11.65,
          31.9,
          7.84,
          25.22,
          20.08,
          46.8,
          39.59,
          13.4,
          15.05,
          36.35,
          35.31,
          15.07,
          12.18,
          29.41,
          24.45,
          26.15,
          48.15,
          47.03,
          33.96,
          33.61,
          32.82,
          15.57,
          16.28,
          38.5,
          9.87,
          34.49,
          37.92,
          11.48,
          68.3,
          24.54,
          9.62,
          36.44,
          14.99,
          9.69,
          10.35,
          26.05,
          37.23,
          25.18,
          53.77,
          39.06,
          43.8,
          42.64,
          53.69,
          34.29,
          33.42,
          27.34,
          7.4,
          21.16,
          21.78,
          43.7,
          51.04,
          30.85,
          53.46,
          22.49,
          44.09,
          33,
          10.22,
          13.09,
          39.32,
          50.08,
          9.45,
          79.99,
          79.3,
          52.2,
          14.6,
          20.59,
          37.81,
          71.3,
          25.73,
          35.23,
          69.66,
          18.2,
          15.57,
          54.9,
          48.97,
          56.81,
          19.35,
          18.42,
          21.48,
          47.28,
          21.07,
          50.6,
          38.02,
          29.79,
          42.13,
          15.61,
          29.65,
          43.39,
          21.91,
          48.28,
          43.58,
          22.75,
          33.8,
          13.46,
          19.99,
          79.3,
          41.05,
          36.96,
          39.05,
          33.06,
          31.12,
          20.92,
          30.14,
          44.4,
          24.5,
          71.62,
          36.3,
          38.46,
          35.86,
          40.15,
          31.42,
          20.73,
          4.78,
          46.23,
          33.56,
          23.35,
          32.92,
          41.37,
          32.85,
          35.08,
          38.2,
          23.4,
          20.97,
          12.18,
          13.18,
          19.01,
          14.64,
          11.58,
          30.12,
          26.06,
          56.74,
          23.7,
          37.17,
          32.11,
          38.61,
          33.02,
          36.45,
          52.01,
          7.72,
          28.68,
          59.09,
          24.66,
          17.57,
          46.39,
          31.27,
          66.9,
          24.34,
          20.87,
          30.44,
          29.75,
          15.09,
          24.07,
          52.44,
          67.87,
          39.09,
          35.23,
          38.56,
          56.61,
          22.32,
          49.2,
          6.27,
          25.69,
          61.24,
          67.8,
          24.89,
          47.82,
          35.57,
          58.8,
          35.1,
          21.75,
          28.8,
          30.28,
          15.58,
          24.1,
          34.9,
          29.55,
          14.4,
          55.83,
          15.87,
          43.01,
          15.36,
          22.63,
          33.31,
          34.77,
          36.3,
          44.52,
          56.7,
          63.53,
          26.85,
          33.76,
          37.33,
          38.7,
          73.7,
          53.9,
          25.56,
          37.17,
          53.96,
          21.29,
          41.37,
          10.09,
          17.44,
          39.61,
          12.46,
          41.1,
          52.83,
          8.54,
          41.54,
          38.41,
          22.5,
          64.3,
          41.89,
          33.7,
          23.74,
          49.2,
          44.13,
          48.72,
          51.43,
          44.61,
          57.92,
          15.53,
          66.6,
          77.3,
          41.16,
          45.08,
          17.95,
          39.6,
          24.4,
          34.56,
          46.64,
          27.63,
          41.93,
          56.5,
          40.87,
          19.01,
          40.06,
          32.77,
          53.58,
          28.6,
          46.23,
          13.52,
          62.05,
          27.68,
          66.1,
          17.82,
          23.22,
          34.2,
          24.99,
          39.44,
          38.11,
          21.6,
          34.68,
          38.21,
          14.99,
          30.96,
          22.95,
          55.6,
          15.34,
          54.77,
          37.27,
          18.13,
          40.93,
          24.44,
          55.9,
          33.08,
          67.31,
          59.8,
          55.45,
          27.53,
          52.45,
          16.5,
          56.63,
          29.73,
          35.3,
          17.96,
          44.28,
          44.61,
          31.38,
          36.59,
          41.67,
          82.6,
          40.27,
          42.33,
          56.85,
          25.48,
          40.2,
          59,
          36.15,
          17.17,
          44.39,
          21.02,
          15.34,
          21.26,
          51.02,
          63.14,
          68.5,
          36.94,
          71.3,
          13.57,
          39.66,
          33.73,
          41.05,
          14.94,
          25.61,
          44.64,
          39.58,
          25.89,
          31.87,
          41.94,
          61.8,
          47.71,
          66.82,
          40.93,
          32.01,
          53.66,
          32.72,
          21.97,
          28.24,
          17.54,
          40.29,
          25.42,
          75.5,
          60.29,
          25.02,
          16.5,
          52.52,
          34.24,
          27.23,
          39.45,
          41.2,
          37.96,
          22.84,
          38.7,
          80.2,
          27.22,
          50.24,
          8.54,
          16.11,
          59.3,
          45.71,
          12.55,
          25.1,
          29.39,
          62.94,
          26.23,
          42.64,
          36.44,
          44.21,
          19.99,
          23.52,
          10.79,
          9.56,
          13.2,
          10.39,
          21.91,
          13.29,
          41.3,
          44.28,
          55.06,
          52.61
         ],
         "xaxis": "x",
         "yaxis": "y"
        }
       ],
       "layout": {
        "barmode": "relative",
        "legend": {
         "tracegroupgap": 0
        },
        "margin": {
         "t": 60
        },
        "template": {
         "data": {
          "bar": [
           {
            "error_x": {
             "color": "#2a3f5f"
            },
            "error_y": {
             "color": "#2a3f5f"
            },
            "marker": {
             "line": {
              "color": "#E5ECF6",
              "width": 0.5
             }
            },
            "type": "bar"
           }
          ],
          "barpolar": [
           {
            "marker": {
             "line": {
              "color": "#E5ECF6",
              "width": 0.5
             }
            },
            "type": "barpolar"
           }
          ],
          "carpet": [
           {
            "aaxis": {
             "endlinecolor": "#2a3f5f",
             "gridcolor": "white",
             "linecolor": "white",
             "minorgridcolor": "white",
             "startlinecolor": "#2a3f5f"
            },
            "baxis": {
             "endlinecolor": "#2a3f5f",
             "gridcolor": "white",
             "linecolor": "white",
             "minorgridcolor": "white",
             "startlinecolor": "#2a3f5f"
            },
            "type": "carpet"
           }
          ],
          "choropleth": [
           {
            "colorbar": {
             "outlinewidth": 0,
             "ticks": ""
            },
            "type": "choropleth"
           }
          ],
          "contour": [
           {
            "colorbar": {
             "outlinewidth": 0,
             "ticks": ""
            },
            "colorscale": [
             [
              0,
              "#0d0887"
             ],
             [
              0.1111111111111111,
              "#46039f"
             ],
             [
              0.2222222222222222,
              "#7201a8"
             ],
             [
              0.3333333333333333,
              "#9c179e"
             ],
             [
              0.4444444444444444,
              "#bd3786"
             ],
             [
              0.5555555555555556,
              "#d8576b"
             ],
             [
              0.6666666666666666,
              "#ed7953"
             ],
             [
              0.7777777777777778,
              "#fb9f3a"
             ],
             [
              0.8888888888888888,
              "#fdca26"
             ],
             [
              1,
              "#f0f921"
             ]
            ],
            "type": "contour"
           }
          ],
          "contourcarpet": [
           {
            "colorbar": {
             "outlinewidth": 0,
             "ticks": ""
            },
            "type": "contourcarpet"
           }
          ],
          "heatmap": [
           {
            "colorbar": {
             "outlinewidth": 0,
             "ticks": ""
            },
            "colorscale": [
             [
              0,
              "#0d0887"
             ],
             [
              0.1111111111111111,
              "#46039f"
             ],
             [
              0.2222222222222222,
              "#7201a8"
             ],
             [
              0.3333333333333333,
              "#9c179e"
             ],
             [
              0.4444444444444444,
              "#bd3786"
             ],
             [
              0.5555555555555556,
              "#d8576b"
             ],
             [
              0.6666666666666666,
              "#ed7953"
             ],
             [
              0.7777777777777778,
              "#fb9f3a"
             ],
             [
              0.8888888888888888,
              "#fdca26"
             ],
             [
              1,
              "#f0f921"
             ]
            ],
            "type": "heatmap"
           }
          ],
          "heatmapgl": [
           {
            "colorbar": {
             "outlinewidth": 0,
             "ticks": ""
            },
            "colorscale": [
             [
              0,
              "#0d0887"
             ],
             [
              0.1111111111111111,
              "#46039f"
             ],
             [
              0.2222222222222222,
              "#7201a8"
             ],
             [
              0.3333333333333333,
              "#9c179e"
             ],
             [
              0.4444444444444444,
              "#bd3786"
             ],
             [
              0.5555555555555556,
              "#d8576b"
             ],
             [
              0.6666666666666666,
              "#ed7953"
             ],
             [
              0.7777777777777778,
              "#fb9f3a"
             ],
             [
              0.8888888888888888,
              "#fdca26"
             ],
             [
              1,
              "#f0f921"
             ]
            ],
            "type": "heatmapgl"
           }
          ],
          "histogram": [
           {
            "marker": {
             "colorbar": {
              "outlinewidth": 0,
              "ticks": ""
             }
            },
            "type": "histogram"
           }
          ],
          "histogram2d": [
           {
            "colorbar": {
             "outlinewidth": 0,
             "ticks": ""
            },
            "colorscale": [
             [
              0,
              "#0d0887"
             ],
             [
              0.1111111111111111,
              "#46039f"
             ],
             [
              0.2222222222222222,
              "#7201a8"
             ],
             [
              0.3333333333333333,
              "#9c179e"
             ],
             [
              0.4444444444444444,
              "#bd3786"
             ],
             [
              0.5555555555555556,
              "#d8576b"
             ],
             [
              0.6666666666666666,
              "#ed7953"
             ],
             [
              0.7777777777777778,
              "#fb9f3a"
             ],
             [
              0.8888888888888888,
              "#fdca26"
             ],
             [
              1,
              "#f0f921"
             ]
            ],
            "type": "histogram2d"
           }
          ],
          "histogram2dcontour": [
           {
            "colorbar": {
             "outlinewidth": 0,
             "ticks": ""
            },
            "colorscale": [
             [
              0,
              "#0d0887"
             ],
             [
              0.1111111111111111,
              "#46039f"
             ],
             [
              0.2222222222222222,
              "#7201a8"
             ],
             [
              0.3333333333333333,
              "#9c179e"
             ],
             [
              0.4444444444444444,
              "#bd3786"
             ],
             [
              0.5555555555555556,
              "#d8576b"
             ],
             [
              0.6666666666666666,
              "#ed7953"
             ],
             [
              0.7777777777777778,
              "#fb9f3a"
             ],
             [
              0.8888888888888888,
              "#fdca26"
             ],
             [
              1,
              "#f0f921"
             ]
            ],
            "type": "histogram2dcontour"
           }
          ],
          "mesh3d": [
           {
            "colorbar": {
             "outlinewidth": 0,
             "ticks": ""
            },
            "type": "mesh3d"
           }
          ],
          "parcoords": [
           {
            "line": {
             "colorbar": {
              "outlinewidth": 0,
              "ticks": ""
             }
            },
            "type": "parcoords"
           }
          ],
          "pie": [
           {
            "automargin": true,
            "type": "pie"
           }
          ],
          "scatter": [
           {
            "marker": {
             "colorbar": {
              "outlinewidth": 0,
              "ticks": ""
             }
            },
            "type": "scatter"
           }
          ],
          "scatter3d": [
           {
            "line": {
             "colorbar": {
              "outlinewidth": 0,
              "ticks": ""
             }
            },
            "marker": {
             "colorbar": {
              "outlinewidth": 0,
              "ticks": ""
             }
            },
            "type": "scatter3d"
           }
          ],
          "scattercarpet": [
           {
            "marker": {
             "colorbar": {
              "outlinewidth": 0,
              "ticks": ""
             }
            },
            "type": "scattercarpet"
           }
          ],
          "scattergeo": [
           {
            "marker": {
             "colorbar": {
              "outlinewidth": 0,
              "ticks": ""
             }
            },
            "type": "scattergeo"
           }
          ],
          "scattergl": [
           {
            "marker": {
             "colorbar": {
              "outlinewidth": 0,
              "ticks": ""
             }
            },
            "type": "scattergl"
           }
          ],
          "scattermapbox": [
           {
            "marker": {
             "colorbar": {
              "outlinewidth": 0,
              "ticks": ""
             }
            },
            "type": "scattermapbox"
           }
          ],
          "scatterpolar": [
           {
            "marker": {
             "colorbar": {
              "outlinewidth": 0,
              "ticks": ""
             }
            },
            "type": "scatterpolar"
           }
          ],
          "scatterpolargl": [
           {
            "marker": {
             "colorbar": {
              "outlinewidth": 0,
              "ticks": ""
             }
            },
            "type": "scatterpolargl"
           }
          ],
          "scatterternary": [
           {
            "marker": {
             "colorbar": {
              "outlinewidth": 0,
              "ticks": ""
             }
            },
            "type": "scatterternary"
           }
          ],
          "surface": [
           {
            "colorbar": {
             "outlinewidth": 0,
             "ticks": ""
            },
            "colorscale": [
             [
              0,
              "#0d0887"
             ],
             [
              0.1111111111111111,
              "#46039f"
             ],
             [
              0.2222222222222222,
              "#7201a8"
             ],
             [
              0.3333333333333333,
              "#9c179e"
             ],
             [
              0.4444444444444444,
              "#bd3786"
             ],
             [
              0.5555555555555556,
              "#d8576b"
             ],
             [
              0.6666666666666666,
              "#ed7953"
             ],
             [
              0.7777777777777778,
              "#fb9f3a"
             ],
             [
              0.8888888888888888,
              "#fdca26"
             ],
             [
              1,
              "#f0f921"
             ]
            ],
            "type": "surface"
           }
          ],
          "table": [
           {
            "cells": {
             "fill": {
              "color": "#EBF0F8"
             },
             "line": {
              "color": "white"
             }
            },
            "header": {
             "fill": {
              "color": "#C8D4E3"
             },
             "line": {
              "color": "white"
             }
            },
            "type": "table"
           }
          ]
         },
         "layout": {
          "annotationdefaults": {
           "arrowcolor": "#2a3f5f",
           "arrowhead": 0,
           "arrowwidth": 1
          },
          "coloraxis": {
           "colorbar": {
            "outlinewidth": 0,
            "ticks": ""
           }
          },
          "colorscale": {
           "diverging": [
            [
             0,
             "#8e0152"
            ],
            [
             0.1,
             "#c51b7d"
            ],
            [
             0.2,
             "#de77ae"
            ],
            [
             0.3,
             "#f1b6da"
            ],
            [
             0.4,
             "#fde0ef"
            ],
            [
             0.5,
             "#f7f7f7"
            ],
            [
             0.6,
             "#e6f5d0"
            ],
            [
             0.7,
             "#b8e186"
            ],
            [
             0.8,
             "#7fbc41"
            ],
            [
             0.9,
             "#4d9221"
            ],
            [
             1,
             "#276419"
            ]
           ],
           "sequential": [
            [
             0,
             "#0d0887"
            ],
            [
             0.1111111111111111,
             "#46039f"
            ],
            [
             0.2222222222222222,
             "#7201a8"
            ],
            [
             0.3333333333333333,
             "#9c179e"
            ],
            [
             0.4444444444444444,
             "#bd3786"
            ],
            [
             0.5555555555555556,
             "#d8576b"
            ],
            [
             0.6666666666666666,
             "#ed7953"
            ],
            [
             0.7777777777777778,
             "#fb9f3a"
            ],
            [
             0.8888888888888888,
             "#fdca26"
            ],
            [
             1,
             "#f0f921"
            ]
           ],
           "sequentialminus": [
            [
             0,
             "#0d0887"
            ],
            [
             0.1111111111111111,
             "#46039f"
            ],
            [
             0.2222222222222222,
             "#7201a8"
            ],
            [
             0.3333333333333333,
             "#9c179e"
            ],
            [
             0.4444444444444444,
             "#bd3786"
            ],
            [
             0.5555555555555556,
             "#d8576b"
            ],
            [
             0.6666666666666666,
             "#ed7953"
            ],
            [
             0.7777777777777778,
             "#fb9f3a"
            ],
            [
             0.8888888888888888,
             "#fdca26"
            ],
            [
             1,
             "#f0f921"
            ]
           ]
          },
          "colorway": [
           "#636efa",
           "#EF553B",
           "#00cc96",
           "#ab63fa",
           "#FFA15A",
           "#19d3f3",
           "#FF6692",
           "#B6E880",
           "#FF97FF",
           "#FECB52"
          ],
          "font": {
           "color": "#2a3f5f"
          },
          "geo": {
           "bgcolor": "white",
           "lakecolor": "white",
           "landcolor": "#E5ECF6",
           "showlakes": true,
           "showland": true,
           "subunitcolor": "white"
          },
          "hoverlabel": {
           "align": "left"
          },
          "hovermode": "closest",
          "mapbox": {
           "style": "light"
          },
          "paper_bgcolor": "white",
          "plot_bgcolor": "#E5ECF6",
          "polar": {
           "angularaxis": {
            "gridcolor": "white",
            "linecolor": "white",
            "ticks": ""
           },
           "bgcolor": "#E5ECF6",
           "radialaxis": {
            "gridcolor": "white",
            "linecolor": "white",
            "ticks": ""
           }
          },
          "scene": {
           "xaxis": {
            "backgroundcolor": "#E5ECF6",
            "gridcolor": "white",
            "gridwidth": 2,
            "linecolor": "white",
            "showbackground": true,
            "ticks": "",
            "zerolinecolor": "white"
           },
           "yaxis": {
            "backgroundcolor": "#E5ECF6",
            "gridcolor": "white",
            "gridwidth": 2,
            "linecolor": "white",
            "showbackground": true,
            "ticks": "",
            "zerolinecolor": "white"
           },
           "zaxis": {
            "backgroundcolor": "#E5ECF6",
            "gridcolor": "white",
            "gridwidth": 2,
            "linecolor": "white",
            "showbackground": true,
            "ticks": "",
            "zerolinecolor": "white"
           }
          },
          "shapedefaults": {
           "line": {
            "color": "#2a3f5f"
           }
          },
          "ternary": {
           "aaxis": {
            "gridcolor": "white",
            "linecolor": "white",
            "ticks": ""
           },
           "baxis": {
            "gridcolor": "white",
            "linecolor": "white",
            "ticks": ""
           },
           "bgcolor": "#E5ECF6",
           "caxis": {
            "gridcolor": "white",
            "linecolor": "white",
            "ticks": ""
           }
          },
          "title": {
           "x": 0.05
          },
          "xaxis": {
           "automargin": true,
           "gridcolor": "white",
           "linecolor": "white",
           "ticks": "",
           "title": {
            "standoff": 15
           },
           "zerolinecolor": "white",
           "zerolinewidth": 2
          },
          "yaxis": {
           "automargin": true,
           "gridcolor": "white",
           "linecolor": "white",
           "ticks": "",
           "title": {
            "standoff": 15
           },
           "zerolinecolor": "white",
           "zerolinewidth": 2
          }
         }
        },
        "xaxis": {
         "anchor": "y",
         "domain": [
          0,
          1
         ],
         "title": {
          "text": "x"
         }
        },
        "yaxis": {
         "anchor": "x",
         "domain": [
          0,
          1
         ],
         "title": {
          "text": "count"
         }
        }
       }
      },
      "text/html": [
       "<div>\n",
       "        \n",
       "        \n",
       "            <div id=\"f0c53dcd-75b8-4a69-a629-2e8784c13aac\" class=\"plotly-graph-div\" style=\"height:525px; width:100%;\"></div>\n",
       "            <script type=\"text/javascript\">\n",
       "                require([\"plotly\"], function(Plotly) {\n",
       "                    window.PLOTLYENV=window.PLOTLYENV || {};\n",
       "                    \n",
       "                if (document.getElementById(\"f0c53dcd-75b8-4a69-a629-2e8784c13aac\")) {\n",
       "                    Plotly.newPlot(\n",
       "                        'f0c53dcd-75b8-4a69-a629-2e8784c13aac',\n",
       "                        [{\"alignmentgroup\": \"True\", \"bingroup\": \"x\", \"hoverlabel\": {\"namelength\": 0}, \"hovertemplate\": \"x=%{x}<br>count=%{y}\", \"legendgroup\": \"\", \"marker\": {\"color\": \"#636efa\"}, \"name\": \"\", \"offsetgroup\": \"\", \"orientation\": \"v\", \"showlegend\": false, \"type\": \"histogram\", \"x\": [29.89, 23.51, 29.22, 45.85, 18.29, 21.86, 15.75, 36.64, 21.65, 28.99, 36.35, 6.94, 27.92, 26.26, 23.89, 49.97, 30.08, 44.86, 15.04, 25.1, 13.36, 21.92, 20.42, 33.3, 31.74, 45.3, 49.19, 65.2, 21.54, 33.8, 32.04, 39.29, 23.74, 44.52, 37.91, 39.16, 16.88, 47.71, 17.54, 41.41, 24.28, 60.32, 37.42, 23.52, 59.2, 61.46, 17.2, 40.68, 49.9, 33.4, 49.25, 39.0, 37.27, 39.3, 38.22, 20.28, 48.67, 34.57, 35.23, 42.35, 20.73, 10.38, 37.34, 54.9, 41.05, 29.98, 28.63, 44.3, 52.04, 49.8, 11.41, 50.46, 28.1, 26.92, 45.08, 36.94, 24.13, 19.42, 27.42, 39.15, 28.47, 31.02, 31.25, 43.06, 12.84, 32.24, 67.57, 26.31, 35.3, 23.8, 14.59, 55.9, 21.5, 41.84, 4.9, 57.23, 71.3, 33.4, 33.4, 36.25, 32.96, 61.89, 36.8, 53.1, 11.98, 23.85, 9.74, 14.5, 12.18, 38.63, 55.65, 12.05, 27.68, 31.35, 18.13, 12.79, 37.36, 39.4, 29.45, 33.36, 16.26, 39.64, 23.79, 45.94, 61.07, 31.03, 33.19, 21.86, 74.7, 62.5, 27.77, 31.88, 9.99, 25.08, 13.22, 56.34, 43.57, 46.68, 6.88, 30.65, 33.72, 30.39, 37.72, 42.8, 26.74, 32.53, 33.21, 55.51, 46.68, 41.15, 29.59, 32.84, 29.59, 33.01, 11.47, 23.84, 56.4, 44.3, 22.35, 55.26, 31.45, 67.7, 18.13, 60.28, 33.4, 17.24, 44.42, 37.68, 35.34, 52.42, 57.03, 48.59, 12.47, 44.28, 48.85, 17.58, 10.03, 40.6, 43.38, 14.2, 24.48, 59.49, 63.4, 7.68, 9.85, 22.53, 32.88, 13.71, 60.95, 44.87, 77.3, 61.99, 81.75, 30.88, 23.79, 22.44, 26.77, 68.1, 52.91, 32.33, 33.95, 39.46, 25.45, 45.84, 18.03, 24.29, 29.07, 46.93, 59.89, 39.49, 22.93, 39.0, 52.2, 19.52, 37.36, 26.97, 66.42, 11.96, 14.7, 13.62, 26.94, 23.64, 35.34, 24.0, 25.75, 36.8, 51.72, 29.87, 35.76, 64.9, 2.33, 18.02, 69.3, 27.83, 50.51, 6.47, 18.0, 9.73, 24.58, 71.7, 41.05, 41.54, 26.2, 52.43, 48.79, 79.3, 3.32, 40.15, 12.25, 29.23, 40.23, 34.74, 26.86, 31.35, 33.27, 20.77, 67.11, 79.4, 42.29, 37.8, 49.77, 17.24, 51.73, 28.63, 65.91, 15.62, 61.23, 32.72, 13.66, 36.97, 55.16, 12.46, 40.86, 74.5, 33.76, 55.64, 37.91, 43.58, 33.4, 66.0, 41.64, 43.94, 37.42, 42.23, 29.72, 51.86, 64.9, 12.37, 26.23, 39.38, 17.54, 52.91, 70.7, 56.83, 26.91, 17.6, 37.4, 42.13, 33.4, 9.13, 37.92, 51.04, 52.12, 45.9, 26.86, 22.44, 38.07, 55.55, 34.67, 15.42, 42.22, 19.77, 24.1, 74.17, 14.8, 13.46, 30.22, 22.14, 51.06, 31.84, 64.02, 31.54, 34.4, 44.7, 17.96, 40.39, 25.62, 32.66, 16.89, 47.81, 31.81, 33.42, 7.32, 19.69, 28.3, 31.35, 52.96, 76.8, 29.87, 47.78, 33.73, 45.37, 42.03, 32.63, 37.27, 46.24, 53.52, 50.73, 51.26, 40.86, 32.1, 17.37, 37.81, 40.93, 7.51, 52.5, 29.07, 8.06, 24.92, 42.62, 23.69, 33.7, 11.17, 46.25, 54.32, 26.32, 42.7, 17.34, 19.42, 33.69, 48.7, 31.64, 35.85, 50.7, 25.97, 4.83, 35.17, 32.07, 9.74, 43.89, 28.02, 25.72, 9.01, 65.91, 21.95, 43.38, 47.13, 35.96, 15.69, 32.76, 25.46, 10.73, 49.2, 56.14, 23.08, 56.62, 55.5, 30.12, 39.42, 33.09, 35.3, 39.36, 37.43, 45.3, 15.52, 41.68, 31.35, 4.57, 54.6, 24.05, 31.42, 58.61, 65.7, 10.76, 53.52, 57.22, 41.68, 17.28, 57.6, 54.28, 35.3, 13.29, 13.82, 44.52, 27.74, 74.19, 42.92, 17.22, 51.33, 6.9, 15.82, 61.09, 24.24, 60.29, 39.38, 48.4, 53.39, 23.84, 17.84, 8.2, 38.77, 37.44, 35.75, 31.72, 33.04, 40.56, 55.02, 45.7, 41.24, 43.57, 37.26, 64.9, 74.99, 56.14, 21.18, 38.0, 50.53, 25.37, 43.7, 28.99, 32.72, 44.33, 39.23, 77.3, 32.05, 43.7, 39.3, 33.72, 19.69, 71.99, 12.45, 26.92, 38.8, 66.78, 40.87, 11.47, 73.3, 41.54, 21.06, 50.94, 40.06, 42.14, 65.2, 25.12, 39.0, 27.87, 37.43, 39.84, 44.14, 64.3, 33.49, 76.24, 10.54, 79.3, 30.45, 13.54, 46.23, 36.99, 31.97, 52.82, 49.99, 31.65, 12.64, 22.9, 29.0, 24.0, 78.8, 33.94, 39.7, 8.37, 25.2, 25.18, 38.46, 15.09, 51.96, 15.44, 19.54, 64.3, 33.69, 40.66, 24.39, 35.87, 51.02, 14.54, 58.52, 71.3, 26.06, 65.2, 32.4, 68.75, 33.12, 19.2, 72.99, 50.77, 48.99, 19.93, 24.43, 47.97, 46.9, 50.95, 58.78, 29.16, 6.81, 46.2, 18.03, 72.1, 37.43, 15.03, 19.77, 43.73, 6.28, 49.77, 31.97, 47.1, 27.66, 27.94, 47.22, 32.9, 13.33, 47.4, 25.56, 24.28, 42.42, 25.57, 39.7, 43.5, 26.14, 18.28, 13.12, 72.3, 50.66, 33.66, 44.03, 23.25, 55.25, 66.7, 55.9, 60.29, 40.57, 30.57, 44.21, 61.92, 42.55, 32.96, 60.2, 56.06, 36.56, 7.75, 33.05, 32.25, 45.37, 25.18, 10.34, 74.36, 36.45, 13.52, 28.94, 24.9, 53.72, 13.2, 11.36, 38.89, 15.42, 21.82, 77.3, 32.4, 14.14, 33.54, 69.84, 38.6, 40.86, 56.1, 19.11, 30.23, 61.86, 59.59, 55.2, 14.84, 38.33, 27.04, 39.78, 15.52, 40.76, 53.3, 42.13, 47.74, 43.25, 25.51, 18.91, 31.18, 29.93, 35.36, 54.38, 11.85, 52.3, 57.21, 14.2, 23.52, 8.0, 39.3, 54.1, 14.31, 41.72, 40.71, 29.55, 18.75, 33.8, 31.18, 39.42, 24.4, 8.49, 26.4, 38.6, 66.95, 55.55, 12.54, 39.94, 23.52, 55.94, 12.73, 39.27, 59.76, 24.85, 36.84, 11.39, 28.63, 27.92, 9.31, 22.72, 10.54, 23.14, 11.65, 31.9, 7.84, 25.22, 20.08, 46.8, 39.59, 13.4, 15.05, 36.35, 35.31, 15.07, 12.18, 29.41, 24.45, 26.15, 48.15, 47.03, 33.96, 33.61, 32.82, 15.57, 16.28, 38.5, 9.87, 34.49, 37.92, 11.48, 68.3, 24.54, 9.62, 36.44, 14.99, 9.69, 10.35, 26.05, 37.23, 25.18, 53.77, 39.06, 43.8, 42.64, 53.69, 34.29, 33.42, 27.34, 7.4, 21.16, 21.78, 43.7, 51.04, 30.85, 53.46, 22.49, 44.09, 33.0, 10.22, 13.09, 39.32, 50.08, 9.45, 79.99, 79.3, 52.2, 14.6, 20.59, 37.81, 71.3, 25.73, 35.23, 69.66, 18.2, 15.57, 54.9, 48.97, 56.81, 19.35, 18.42, 21.48, 47.28, 21.07, 50.6, 38.02, 29.79, 42.13, 15.61, 29.65, 43.39, 21.91, 48.28, 43.58, 22.75, 33.8, 13.46, 19.99, 79.3, 41.05, 36.96, 39.05, 33.06, 31.12, 20.92, 30.14, 44.4, 24.5, 71.62, 36.3, 38.46, 35.86, 40.15, 31.42, 20.73, 4.78, 46.23, 33.56, 23.35, 32.92, 41.37, 32.85, 35.08, 38.2, 23.4, 20.97, 12.18, 13.18, 19.01, 14.64, 11.58, 30.12, 26.06, 56.74, 23.7, 37.17, 32.11, 38.61, 33.02, 36.45, 52.01, 7.72, 28.68, 59.09, 24.66, 17.57, 46.39, 31.27, 66.9, 24.34, 20.87, 30.44, 29.75, 15.09, 24.07, 52.44, 67.87, 39.09, 35.23, 38.56, 56.61, 22.32, 49.2, 6.27, 25.69, 61.24, 67.8, 24.89, 47.82, 35.57, 58.8, 35.1, 21.75, 28.8, 30.28, 15.58, 24.1, 34.9, 29.55, 14.4, 55.83, 15.87, 43.01, 15.36, 22.63, 33.31, 34.77, 36.3, 44.52, 56.7, 63.53, 26.85, 33.76, 37.33, 38.7, 73.7, 53.9, 25.56, 37.17, 53.96, 21.29, 41.37, 10.09, 17.44, 39.61, 12.46, 41.1, 52.83, 8.54, 41.54, 38.41, 22.5, 64.3, 41.89, 33.7, 23.74, 49.2, 44.13, 48.72, 51.43, 44.61, 57.92, 15.53, 66.6, 77.3, 41.16, 45.08, 17.95, 39.6, 24.4, 34.56, 46.64, 27.63, 41.93, 56.5, 40.87, 19.01, 40.06, 32.77, 53.58, 28.6, 46.23, 13.52, 62.05, 27.68, 66.1, 17.82, 23.22, 34.2, 24.99, 39.44, 38.11, 21.6, 34.68, 38.21, 14.99, 30.96, 22.95, 55.6, 15.34, 54.77, 37.27, 18.13, 40.93, 24.44, 55.9, 33.08, 67.31, 59.8, 55.45, 27.53, 52.45, 16.5, 56.63, 29.73, 35.3, 17.96, 44.28, 44.61, 31.38, 36.59, 41.67, 82.6, 40.27, 42.33, 56.85, 25.48, 40.2, 59.0, 36.15, 17.17, 44.39, 21.02, 15.34, 21.26, 51.02, 63.14, 68.5, 36.94, 71.3, 13.57, 39.66, 33.73, 41.05, 14.94, 25.61, 44.64, 39.58, 25.89, 31.87, 41.94, 61.8, 47.71, 66.82, 40.93, 32.01, 53.66, 32.72, 21.97, 28.24, 17.54, 40.29, 25.42, 75.5, 60.29, 25.02, 16.5, 52.52, 34.24, 27.23, 39.45, 41.2, 37.96, 22.84, 38.7, 80.2, 27.22, 50.24, 8.54, 16.11, 59.3, 45.71, 12.55, 25.1, 29.39, 62.94, 26.23, 42.64, 36.44, 44.21, 19.99, 23.52, 10.79, 9.56, 13.2, 10.39, 21.91, 13.29, 41.3, 44.28, 55.06, 52.61], \"xaxis\": \"x\", \"yaxis\": \"y\"}],\n",
       "                        {\"barmode\": \"relative\", \"legend\": {\"tracegroupgap\": 0}, \"margin\": {\"t\": 60}, \"template\": {\"data\": {\"bar\": [{\"error_x\": {\"color\": \"#2a3f5f\"}, \"error_y\": {\"color\": \"#2a3f5f\"}, \"marker\": {\"line\": {\"color\": \"#E5ECF6\", \"width\": 0.5}}, \"type\": \"bar\"}], \"barpolar\": [{\"marker\": {\"line\": {\"color\": \"#E5ECF6\", \"width\": 0.5}}, \"type\": \"barpolar\"}], \"carpet\": [{\"aaxis\": {\"endlinecolor\": \"#2a3f5f\", \"gridcolor\": \"white\", \"linecolor\": \"white\", \"minorgridcolor\": \"white\", \"startlinecolor\": \"#2a3f5f\"}, \"baxis\": {\"endlinecolor\": \"#2a3f5f\", \"gridcolor\": \"white\", \"linecolor\": \"white\", \"minorgridcolor\": \"white\", \"startlinecolor\": \"#2a3f5f\"}, \"type\": \"carpet\"}], \"choropleth\": [{\"colorbar\": {\"outlinewidth\": 0, \"ticks\": \"\"}, \"type\": \"choropleth\"}], \"contour\": [{\"colorbar\": {\"outlinewidth\": 0, \"ticks\": \"\"}, \"colorscale\": [[0.0, \"#0d0887\"], [0.1111111111111111, \"#46039f\"], [0.2222222222222222, \"#7201a8\"], [0.3333333333333333, \"#9c179e\"], [0.4444444444444444, \"#bd3786\"], [0.5555555555555556, \"#d8576b\"], [0.6666666666666666, \"#ed7953\"], [0.7777777777777778, \"#fb9f3a\"], [0.8888888888888888, \"#fdca26\"], [1.0, \"#f0f921\"]], \"type\": \"contour\"}], \"contourcarpet\": [{\"colorbar\": {\"outlinewidth\": 0, \"ticks\": \"\"}, \"type\": \"contourcarpet\"}], \"heatmap\": [{\"colorbar\": {\"outlinewidth\": 0, \"ticks\": \"\"}, \"colorscale\": [[0.0, \"#0d0887\"], [0.1111111111111111, \"#46039f\"], [0.2222222222222222, \"#7201a8\"], [0.3333333333333333, \"#9c179e\"], [0.4444444444444444, \"#bd3786\"], [0.5555555555555556, \"#d8576b\"], [0.6666666666666666, \"#ed7953\"], [0.7777777777777778, \"#fb9f3a\"], [0.8888888888888888, \"#fdca26\"], [1.0, \"#f0f921\"]], \"type\": \"heatmap\"}], \"heatmapgl\": [{\"colorbar\": {\"outlinewidth\": 0, \"ticks\": \"\"}, \"colorscale\": [[0.0, \"#0d0887\"], [0.1111111111111111, \"#46039f\"], [0.2222222222222222, \"#7201a8\"], [0.3333333333333333, \"#9c179e\"], [0.4444444444444444, \"#bd3786\"], [0.5555555555555556, \"#d8576b\"], [0.6666666666666666, \"#ed7953\"], [0.7777777777777778, \"#fb9f3a\"], [0.8888888888888888, \"#fdca26\"], [1.0, \"#f0f921\"]], \"type\": \"heatmapgl\"}], \"histogram\": [{\"marker\": {\"colorbar\": {\"outlinewidth\": 0, \"ticks\": \"\"}}, \"type\": \"histogram\"}], \"histogram2d\": [{\"colorbar\": {\"outlinewidth\": 0, \"ticks\": \"\"}, \"colorscale\": [[0.0, \"#0d0887\"], [0.1111111111111111, \"#46039f\"], [0.2222222222222222, \"#7201a8\"], [0.3333333333333333, \"#9c179e\"], [0.4444444444444444, \"#bd3786\"], [0.5555555555555556, \"#d8576b\"], [0.6666666666666666, \"#ed7953\"], [0.7777777777777778, \"#fb9f3a\"], [0.8888888888888888, \"#fdca26\"], [1.0, \"#f0f921\"]], \"type\": \"histogram2d\"}], \"histogram2dcontour\": [{\"colorbar\": {\"outlinewidth\": 0, \"ticks\": \"\"}, \"colorscale\": [[0.0, \"#0d0887\"], [0.1111111111111111, \"#46039f\"], [0.2222222222222222, \"#7201a8\"], [0.3333333333333333, \"#9c179e\"], [0.4444444444444444, \"#bd3786\"], [0.5555555555555556, \"#d8576b\"], [0.6666666666666666, \"#ed7953\"], [0.7777777777777778, \"#fb9f3a\"], [0.8888888888888888, \"#fdca26\"], [1.0, \"#f0f921\"]], \"type\": \"histogram2dcontour\"}], \"mesh3d\": [{\"colorbar\": {\"outlinewidth\": 0, \"ticks\": \"\"}, \"type\": \"mesh3d\"}], \"parcoords\": [{\"line\": {\"colorbar\": {\"outlinewidth\": 0, \"ticks\": \"\"}}, \"type\": \"parcoords\"}], \"pie\": [{\"automargin\": true, \"type\": \"pie\"}], \"scatter\": [{\"marker\": {\"colorbar\": {\"outlinewidth\": 0, \"ticks\": \"\"}}, \"type\": \"scatter\"}], \"scatter3d\": [{\"line\": {\"colorbar\": {\"outlinewidth\": 0, \"ticks\": \"\"}}, \"marker\": {\"colorbar\": {\"outlinewidth\": 0, \"ticks\": \"\"}}, \"type\": \"scatter3d\"}], \"scattercarpet\": [{\"marker\": {\"colorbar\": {\"outlinewidth\": 0, \"ticks\": \"\"}}, \"type\": \"scattercarpet\"}], \"scattergeo\": [{\"marker\": {\"colorbar\": {\"outlinewidth\": 0, \"ticks\": \"\"}}, \"type\": \"scattergeo\"}], \"scattergl\": [{\"marker\": {\"colorbar\": {\"outlinewidth\": 0, \"ticks\": \"\"}}, \"type\": \"scattergl\"}], \"scattermapbox\": [{\"marker\": {\"colorbar\": {\"outlinewidth\": 0, \"ticks\": \"\"}}, \"type\": \"scattermapbox\"}], \"scatterpolar\": [{\"marker\": {\"colorbar\": {\"outlinewidth\": 0, \"ticks\": \"\"}}, \"type\": \"scatterpolar\"}], \"scatterpolargl\": [{\"marker\": {\"colorbar\": {\"outlinewidth\": 0, \"ticks\": \"\"}}, \"type\": \"scatterpolargl\"}], \"scatterternary\": [{\"marker\": {\"colorbar\": {\"outlinewidth\": 0, \"ticks\": \"\"}}, \"type\": \"scatterternary\"}], \"surface\": [{\"colorbar\": {\"outlinewidth\": 0, \"ticks\": \"\"}, \"colorscale\": [[0.0, \"#0d0887\"], [0.1111111111111111, \"#46039f\"], [0.2222222222222222, \"#7201a8\"], [0.3333333333333333, \"#9c179e\"], [0.4444444444444444, \"#bd3786\"], [0.5555555555555556, \"#d8576b\"], [0.6666666666666666, \"#ed7953\"], [0.7777777777777778, \"#fb9f3a\"], [0.8888888888888888, \"#fdca26\"], [1.0, \"#f0f921\"]], \"type\": \"surface\"}], \"table\": [{\"cells\": {\"fill\": {\"color\": \"#EBF0F8\"}, \"line\": {\"color\": \"white\"}}, \"header\": {\"fill\": {\"color\": \"#C8D4E3\"}, \"line\": {\"color\": \"white\"}}, \"type\": \"table\"}]}, \"layout\": {\"annotationdefaults\": {\"arrowcolor\": \"#2a3f5f\", \"arrowhead\": 0, \"arrowwidth\": 1}, \"coloraxis\": {\"colorbar\": {\"outlinewidth\": 0, \"ticks\": \"\"}}, \"colorscale\": {\"diverging\": [[0, \"#8e0152\"], [0.1, \"#c51b7d\"], [0.2, \"#de77ae\"], [0.3, \"#f1b6da\"], [0.4, \"#fde0ef\"], [0.5, \"#f7f7f7\"], [0.6, \"#e6f5d0\"], [0.7, \"#b8e186\"], [0.8, \"#7fbc41\"], [0.9, \"#4d9221\"], [1, \"#276419\"]], \"sequential\": [[0.0, \"#0d0887\"], [0.1111111111111111, \"#46039f\"], [0.2222222222222222, \"#7201a8\"], [0.3333333333333333, \"#9c179e\"], [0.4444444444444444, \"#bd3786\"], [0.5555555555555556, \"#d8576b\"], [0.6666666666666666, \"#ed7953\"], [0.7777777777777778, \"#fb9f3a\"], [0.8888888888888888, \"#fdca26\"], [1.0, \"#f0f921\"]], \"sequentialminus\": [[0.0, \"#0d0887\"], [0.1111111111111111, \"#46039f\"], [0.2222222222222222, \"#7201a8\"], [0.3333333333333333, \"#9c179e\"], [0.4444444444444444, \"#bd3786\"], [0.5555555555555556, \"#d8576b\"], [0.6666666666666666, \"#ed7953\"], [0.7777777777777778, \"#fb9f3a\"], [0.8888888888888888, \"#fdca26\"], [1.0, \"#f0f921\"]]}, \"colorway\": [\"#636efa\", \"#EF553B\", \"#00cc96\", \"#ab63fa\", \"#FFA15A\", \"#19d3f3\", \"#FF6692\", \"#B6E880\", \"#FF97FF\", \"#FECB52\"], \"font\": {\"color\": \"#2a3f5f\"}, \"geo\": {\"bgcolor\": \"white\", \"lakecolor\": \"white\", \"landcolor\": \"#E5ECF6\", \"showlakes\": true, \"showland\": true, \"subunitcolor\": \"white\"}, \"hoverlabel\": {\"align\": \"left\"}, \"hovermode\": \"closest\", \"mapbox\": {\"style\": \"light\"}, \"paper_bgcolor\": \"white\", \"plot_bgcolor\": \"#E5ECF6\", \"polar\": {\"angularaxis\": {\"gridcolor\": \"white\", \"linecolor\": \"white\", \"ticks\": \"\"}, \"bgcolor\": \"#E5ECF6\", \"radialaxis\": {\"gridcolor\": \"white\", \"linecolor\": \"white\", \"ticks\": \"\"}}, \"scene\": {\"xaxis\": {\"backgroundcolor\": \"#E5ECF6\", \"gridcolor\": \"white\", \"gridwidth\": 2, \"linecolor\": \"white\", \"showbackground\": true, \"ticks\": \"\", \"zerolinecolor\": \"white\"}, \"yaxis\": {\"backgroundcolor\": \"#E5ECF6\", \"gridcolor\": \"white\", \"gridwidth\": 2, \"linecolor\": \"white\", \"showbackground\": true, \"ticks\": \"\", \"zerolinecolor\": \"white\"}, \"zaxis\": {\"backgroundcolor\": \"#E5ECF6\", \"gridcolor\": \"white\", \"gridwidth\": 2, \"linecolor\": \"white\", \"showbackground\": true, \"ticks\": \"\", \"zerolinecolor\": \"white\"}}, \"shapedefaults\": {\"line\": {\"color\": \"#2a3f5f\"}}, \"ternary\": {\"aaxis\": {\"gridcolor\": \"white\", \"linecolor\": \"white\", \"ticks\": \"\"}, \"baxis\": {\"gridcolor\": \"white\", \"linecolor\": \"white\", \"ticks\": \"\"}, \"bgcolor\": \"#E5ECF6\", \"caxis\": {\"gridcolor\": \"white\", \"linecolor\": \"white\", \"ticks\": \"\"}}, \"title\": {\"x\": 0.05}, \"xaxis\": {\"automargin\": true, \"gridcolor\": \"white\", \"linecolor\": \"white\", \"ticks\": \"\", \"title\": {\"standoff\": 15}, \"zerolinecolor\": \"white\", \"zerolinewidth\": 2}, \"yaxis\": {\"automargin\": true, \"gridcolor\": \"white\", \"linecolor\": \"white\", \"ticks\": \"\", \"title\": {\"standoff\": 15}, \"zerolinecolor\": \"white\", \"zerolinewidth\": 2}}}, \"xaxis\": {\"anchor\": \"y\", \"domain\": [0.0, 1.0], \"title\": {\"text\": \"x\"}}, \"yaxis\": {\"anchor\": \"x\", \"domain\": [0.0, 1.0], \"title\": {\"text\": \"count\"}}},\n",
       "                        {\"responsive\": true}\n",
       "                    ).then(function(){\n",
       "                            \n",
       "var gd = document.getElementById('f0c53dcd-75b8-4a69-a629-2e8784c13aac');\n",
       "var x = new MutationObserver(function (mutations, observer) {{\n",
       "        var display = window.getComputedStyle(gd).display;\n",
       "        if (!display || display === 'none') {{\n",
       "            console.log([gd, 'removed!']);\n",
       "            Plotly.purge(gd);\n",
       "            observer.disconnect();\n",
       "        }}\n",
       "}});\n",
       "\n",
       "// Listen for the removal of the full notebook cells\n",
       "var notebookContainer = gd.closest('#notebook-container');\n",
       "if (notebookContainer) {{\n",
       "    x.observe(notebookContainer, {childList: true});\n",
       "}}\n",
       "\n",
       "// Listen for the clearing of the current output cell\n",
       "var outputEl = gd.closest('.output');\n",
       "if (outputEl) {{\n",
       "    x.observe(outputEl, {childList: true});\n",
       "}}\n",
       "\n",
       "                        })\n",
       "                };\n",
       "                });\n",
       "            </script>\n",
       "        </div>"
      ]
     },
     "metadata": {},
     "output_type": "display_data"
    }
   ],
   "source": [
    "v1.Histogram(x=data['strength'])"
   ]
  },
  {
   "cell_type": "code",
   "execution_count": 82,
   "metadata": {},
   "outputs": [
    {
     "data": {
      "application/vnd.plotly.v1+json": {
       "config": {
        "plotlyServerURL": "https://plot.ly"
       },
       "data": [
        {
         "hoverlabel": {
          "namelength": 0
         },
         "hovertemplate": "x=%{x}<br>y=%{y}",
         "legendgroup": "",
         "marker": {
          "color": "#636efa",
          "symbol": "circle"
         },
         "mode": "markers",
         "name": "",
         "showlegend": false,
         "type": "scattergl",
         "x": [
          141.3,
          168.9,
          250,
          266,
          154.8,
          255,
          166.8,
          251.4,
          296,
          155,
          151.8,
          173,
          385,
          237.5,
          167,
          213.8,
          237.5,
          336,
          190.7,
          312.7,
          229.7,
          228,
          236,
          132,
          331,
          310,
          304,
          425,
          166.1,
          255,
          339,
          475,
          145.7,
          313,
          331,
          178,
          165,
          277.2,
          325,
          167,
          194.7,
          246.8,
          382,
          149,
          531.3,
          387,
          193.5,
          326,
          337.9,
          425,
          200,
          331,
          218.9,
          234,
          309.9,
          350,
          182,
          480,
          295.7,
          250,
          178,
          233.8,
          194.7,
          379.5,
          332.5,
          350,
          237,
          238.1,
          295.7,
          323.7,
          200,
          342,
          388.6,
          147.8,
          290.4,
          500,
          284,
          165,
          218.2,
          168.9,
          190.3,
          116,
          277,
          376,
          236,
          273,
          500,
          212.5,
          362.6,
          275.1,
          139.6,
          362.6,
          182,
          427.5,
          183.9,
          475,
          362.6,
          318.8,
          252,
          237.5,
          149.5,
          540,
          313,
          380,
          251.4,
          436,
          155,
          281,
          151.6,
          326.5,
          397,
          238,
          158.6,
          385,
          302,
          192,
          155.6,
          160,
          222.4,
          251.8,
          331,
          250,
          155,
          213.5,
          446,
          133,
          122.6,
          290.2,
          323.7,
          375,
          181.4,
          298.2,
          236,
          236,
          339,
          387,
          166.8,
          387,
          133,
          162,
          262,
          213.7,
          332.5,
          313.3,
          302,
          183.9,
          500,
          218.2,
          387,
          380,
          213.5,
          160,
          322,
          173.5,
          252,
          299.8,
          531.3,
          198.6,
          116,
          304,
          331,
          286.3,
          349,
          520,
          252.1,
          255.5,
          446,
          172.4,
          190.7,
          322,
          446,
          178,
          212.1,
          276,
          393,
          238.1,
          230,
          389.9,
          157,
          296,
          230,
          359,
          374,
          102,
          202,
          350,
          236,
          252,
          252.3,
          336.5,
          362.6,
          218.2,
          315,
          159,
          154.8,
          281,
          231.8,
          318.8,
          266,
          277,
          166.8,
          159.8,
          397,
          231.8,
          164.6,
          122.6,
          136.4,
          190,
          337.9,
          349,
          184,
          424,
          379.5,
          212,
          156,
          136,
          246.8,
          203.5,
          385,
          181.4,
          254,
          359,
          230,
          382,
          220.8,
          313.3,
          167.4,
          144,
          310,
          425,
          108.3,
          214.9,
          469,
          310,
          522,
          236,
          213.7,
          250.2,
          149,
          439,
          313,
          427.5,
          165,
          322.5,
          393,
          362.6,
          122.6,
          213.7,
          200,
          108.3,
          213.8,
          290.4,
          153,
          229.7,
          251.4,
          322,
          525,
          389.9,
          252.3,
          475,
          259.9,
          310,
          266,
          236.9,
          366,
          333,
          326,
          145.9,
          133,
          251.4,
          500,
          154.8,
          349,
          389.9,
          162,
          277.1,
          166,
          277,
          425,
          439,
          540,
          480,
          382,
          475,
          143,
          203.5,
          374,
          181.9,
          153,
          450.1,
          238,
          380,
          469,
          528,
          238.2,
          186.2,
          212.6,
          475,
          425,
          198.6,
          491,
          277.1,
          342,
          387,
          152.6,
          281,
          198.6,
          491,
          290.4,
          144,
          246.8,
          252.5,
          236,
          540,
          295,
          150.7,
          218.9,
          233.8,
          249.1,
          339,
          505,
          230,
          374,
          139.6,
          148.1,
          190.3,
          376,
          251.4,
          157,
          304,
          167.4,
          304,
          182,
          252,
          323.7,
          350,
          213.5,
          286.3,
          143.7,
          236,
          213.7,
          181.4,
          249.1,
          193.5,
          194.7,
          289,
          298,
          192,
          213.5,
          190,
          173,
          213.5,
          173.8,
          284,
          135.7,
          246.8,
          136,
          139.6,
          250,
          475,
          149,
          277,
          225,
          289,
          480,
          153,
          231.8,
          225,
          190.3,
          172.4,
          266,
          212.5,
          172.4,
          388.6,
          277,
          141.3,
          339,
          289,
          154.8,
          480,
          198.6,
          194.7,
          349,
          366,
          236,
          305.3,
          213.8,
          218.2,
          238.2,
          159,
          102,
          170.3,
          425,
          342,
          173.5,
          330.5,
          318.8,
          304.8,
          266,
          165,
          362.6,
          139.6,
          150,
          310,
          148,
          203.5,
          212,
          102,
          305.3,
          183.9,
          296,
          275.1,
          424,
          166.1,
          297.8,
          321.3,
          333,
          102,
          388.6,
          480,
          362.6,
          134.7,
          250,
          284,
          393,
          475,
          212.5,
          251.4,
          275.1,
          166.8,
          173.8,
          374,
          168,
          425,
          331,
          525,
          446,
          300,
          213.8,
          255,
          275.1,
          382.5,
          359,
          190.3,
          290.2,
          380,
          165,
          375,
          331,
          277,
          321,
          313.3,
          522,
          446,
          339.2,
          286.3,
          288,
          212.6,
          400,
          155.2,
          349,
          334,
          168,
          362.6,
          255.5,
          427.5,
          439,
          261.9,
          252,
          485,
          194.7,
          148,
          288,
          359,
          356,
          382,
          439,
          264.5,
          190.7,
          173.8,
          317.9,
          288.4,
          425,
          359,
          237.5,
          133,
          427.5,
          162,
          251.8,
          425,
          491,
          275,
          145.4,
          362.6,
          277.2,
          212.5,
          218.9,
          297.2,
          333,
          280,
          178,
          339,
          500,
          362.6,
          375,
          382,
          451,
          251.8,
          212,
          153,
          318.8,
          296,
          313.8,
          164,
          297.2,
          231.8,
          203.5,
          425,
          310,
          349,
          480,
          298.1,
          446,
          381.4,
          475,
          362.6,
          500,
          425,
          261,
          359,
          237.5,
          393,
          286.3,
          213.7,
          173.8,
          238.1,
          251.4,
          387,
          531.3,
          304,
          525,
          145,
          212,
          374,
          165,
          424,
          150,
          212,
          272.8,
          284,
          116,
          260,
          376,
          379.5,
          233.8,
          181.9,
          500,
          167,
          212.6,
          297.2,
          153.1,
          173,
          525,
          289,
          228,
          182,
          144,
          155,
          251.4,
          475,
          190,
          157,
          355,
          202,
          446,
          425,
          362.6,
          425,
          190.7,
          325,
          251.4,
          525,
          212.5,
          149,
          375,
          173.5,
          165,
          168,
          157,
          272.6,
          251.8,
          322,
          238.1,
          424,
          339,
          331,
          133.1,
          212.1,
          165,
          145,
          277,
          339,
          143.6,
          210.7,
          362.6,
          260.9,
          305.3,
          166.1,
          500,
          475,
          229.7,
          439,
          393,
          238.1,
          491,
          491,
          388.6,
          295.8,
          250,
          339,
          332.5,
          167,
          380,
          380,
          288,
          212.6,
          200,
          387,
          296,
          322.2,
          251.4,
          446,
          304,
          310,
          405,
          321,
          275,
          149,
          186.2,
          446,
          401.8,
          331,
          198.6,
          222.4,
          173.8,
          255,
          255.3,
          322,
          266.2,
          480,
          250,
          190.7,
          214.9,
          277.2,
          385,
          307,
          295.7,
          246.8,
          525,
          250,
          251.4,
          540,
          190.3,
          387,
          173,
          166.1,
          310,
          254,
          190.3,
          145,
          277.1,
          289,
          339.2,
          200,
          295.8,
          230,
          425,
          238.1,
          284,
          349,
          152,
          160.2,
          202,
          194.7,
          156,
          222.4,
          143.8,
          168.9,
          266,
          194.7,
          349,
          380,
          151,
          376,
          212,
          310,
          307,
          166,
          252.5,
          475,
          229.7,
          158.8,
          139.9,
          349,
          157,
          122.6,
          218.9,
          331,
          295,
          173.5,
          374.3,
          287.3,
          298.1,
          190,
          350,
          303.6,
          350,
          168.9,
          339,
          252.3,
          380,
          500,
          249.1,
          167,
          381.4,
          500,
          212,
          255,
          220.8,
          192,
          213.7,
          190.3,
          540,
          362.6,
          214.9,
          289,
          108.3,
          210.7,
          362.6,
          170.3,
          140,
          540,
          135.7,
          150.9,
          469,
          290.4,
          167,
          250.2,
          236,
          192,
          333,
          158.8,
          252.3,
          446,
          254,
          349,
          213.5,
          251.4,
          194.7,
          135,
          277.1,
          251.4,
          387,
          525,
          151,
          146.5,
          362.6,
          313.3,
          250.2,
          374,
          146,
          168.9,
          212.1,
          400,
          212.6,
          275,
          540,
          376,
          314,
          298,
          251.4,
          296,
          251.4,
          153,
          314,
          190.3,
          446,
          307,
          516,
          168,
          427.5,
          173.5,
          333,
          339,
          152,
          213.8,
          152.7,
          198.6,
          222.4,
          305,
          375,
          297.2,
          148.5,
          272.8,
          424,
          359,
          332.5,
          380,
          446,
          108.3,
          249.1,
          389.9,
          250,
          213.7,
          165,
          182,
          469,
          154,
          250,
          200,
          172.4,
          164.2,
          382.5,
          313,
          250,
          397,
          139.7,
          190.3,
          331,
          229.7,
          425,
          385,
          238.1,
          325.6,
          337.9,
          222.4,
          212,
          181.4,
          531.3,
          337.9,
          302,
          313.3,
          332.5,
          300,
          337.9,
          388.6,
          491,
          165,
          252.3,
          349,
          427.5,
          249.1,
          203.5,
          132,
          387,
          425,
          312.7,
          375,
          218.2,
          300,
          162,
          310,
          310,
          401.8,
          213.7,
          153,
          273,
          214.9,
          172.4,
          516,
          116,
          331,
          212.1,
          155,
          401.8,
          279.8,
          158.4,
          265,
          237.5,
          290.4,
          425,
          277.1,
          213.5,
          146,
          425,
          500.1,
          295.7,
          213.5,
          141.9,
          491,
          148.1,
          313.3,
          362.6,
          250,
          212,
          148,
          393,
          286.3,
          233.8,
          213.7,
          254,
          475,
          379.5,
          355.9,
          153,
          318,
          159.1,
          285,
          379.5,
          314,
          331,
          424,
          159,
          318.8,
          168,
          385,
          212.1,
          194.7,
          239.6,
          310,
          181.4,
          310,
          375,
          310,
          297,
          295.7,
          475,
          144,
          446,
          321.4,
          350,
          313.3,
          316.1,
          362.6,
          397,
          540,
          313.3,
          355,
          307,
          312.9,
          153.6,
          214.9,
          143,
          362.6,
          153,
          194.7,
          142,
          272.8,
          133,
          387,
          389.9,
          332.5,
          190,
          275.1,
          166.1,
          469,
          356,
          307,
          200,
          313,
          251.8,
          218.9,
          277,
          520,
          277.2,
          401.8,
          397,
          362.6,
          236,
          141.3,
          231.8,
          349,
          167.4,
          491,
          213.5,
          393,
          305.3,
          298,
          287,
          425,
          250.2,
          277.2,
          284,
          424,
          167.4,
          350,
          202,
          139.6,
          238,
          424,
          239.6,
          401.8,
          425,
          446,
          154,
          380,
          178,
          164,
          160,
          167.4,
          165,
          233.8,
          316.1,
          323.7,
          250,
          387,
          158,
          288,
          213.5,
          213.7,
          190.3,
          313,
          296,
          359,
          153.1,
          298,
          140,
          139.6,
          147,
          288,
          183.9,
          203.5,
          144.8,
          141.3,
          297.2,
          135,
          531.3,
          276.4,
          342,
          540
         ],
         "xaxis": "x",
         "y": [
          29.89,
          23.51,
          29.22,
          45.85,
          18.29,
          21.86,
          15.75,
          36.64,
          21.65,
          28.99,
          36.35,
          6.94,
          27.92,
          26.26,
          23.89,
          49.97,
          30.08,
          44.86,
          15.04,
          25.1,
          13.36,
          21.92,
          20.42,
          33.3,
          31.74,
          45.3,
          49.19,
          65.2,
          21.54,
          33.8,
          32.04,
          39.29,
          23.74,
          44.52,
          37.91,
          39.16,
          16.88,
          47.71,
          17.54,
          41.41,
          24.28,
          60.32,
          37.42,
          23.52,
          59.2,
          61.46,
          17.2,
          40.68,
          49.9,
          33.4,
          49.25,
          39,
          37.27,
          39.3,
          38.22,
          20.28,
          48.67,
          34.57,
          35.23,
          42.35,
          20.73,
          10.38,
          37.34,
          54.9,
          41.05,
          29.98,
          28.63,
          44.3,
          52.04,
          49.8,
          11.41,
          50.46,
          28.1,
          26.92,
          45.08,
          36.94,
          24.13,
          19.42,
          27.42,
          39.15,
          28.47,
          31.02,
          31.25,
          43.06,
          12.84,
          32.24,
          67.57,
          26.31,
          35.3,
          23.8,
          14.59,
          55.9,
          21.5,
          41.84,
          4.9,
          57.23,
          71.3,
          33.4,
          33.4,
          36.25,
          32.96,
          61.89,
          36.8,
          53.1,
          11.98,
          23.85,
          9.74,
          14.5,
          12.18,
          38.63,
          55.65,
          12.05,
          27.68,
          31.35,
          18.13,
          12.79,
          37.36,
          39.4,
          29.45,
          33.36,
          16.26,
          39.64,
          23.79,
          45.94,
          61.07,
          31.03,
          33.19,
          21.86,
          74.7,
          62.5,
          27.77,
          31.88,
          9.99,
          25.08,
          13.22,
          56.34,
          43.57,
          46.68,
          6.88,
          30.65,
          33.72,
          30.39,
          37.72,
          42.8,
          26.74,
          32.53,
          33.21,
          55.51,
          46.68,
          41.15,
          29.59,
          32.84,
          29.59,
          33.01,
          11.47,
          23.84,
          56.4,
          44.3,
          22.35,
          55.26,
          31.45,
          67.7,
          18.13,
          60.28,
          33.4,
          17.24,
          44.42,
          37.68,
          35.34,
          52.42,
          57.03,
          48.59,
          12.47,
          44.28,
          48.85,
          17.58,
          10.03,
          40.6,
          43.38,
          14.2,
          24.48,
          59.49,
          63.4,
          7.68,
          9.85,
          22.53,
          32.88,
          13.71,
          60.95,
          44.87,
          77.3,
          61.99,
          81.75,
          30.88,
          23.79,
          22.44,
          26.77,
          68.1,
          52.91,
          32.33,
          33.95,
          39.46,
          25.45,
          45.84,
          18.03,
          24.29,
          29.07,
          46.93,
          59.89,
          39.49,
          22.93,
          39,
          52.2,
          19.52,
          37.36,
          26.97,
          66.42,
          11.96,
          14.7,
          13.62,
          26.94,
          23.64,
          35.34,
          24,
          25.75,
          36.8,
          51.72,
          29.87,
          35.76,
          64.9,
          2.33,
          18.02,
          69.3,
          27.83,
          50.51,
          6.47,
          18,
          9.73,
          24.58,
          71.7,
          41.05,
          41.54,
          26.2,
          52.43,
          48.79,
          79.3,
          3.32,
          40.15,
          12.25,
          29.23,
          40.23,
          34.74,
          26.86,
          31.35,
          33.27,
          20.77,
          67.11,
          79.4,
          42.29,
          37.8,
          49.77,
          17.24,
          51.73,
          28.63,
          65.91,
          15.62,
          61.23,
          32.72,
          13.66,
          36.97,
          55.16,
          12.46,
          40.86,
          74.5,
          33.76,
          55.64,
          37.91,
          43.58,
          33.4,
          66,
          41.64,
          43.94,
          37.42,
          42.23,
          29.72,
          51.86,
          64.9,
          12.37,
          26.23,
          39.38,
          17.54,
          52.91,
          70.7,
          56.83,
          26.91,
          17.6,
          37.4,
          42.13,
          33.4,
          9.13,
          37.92,
          51.04,
          52.12,
          45.9,
          26.86,
          22.44,
          38.07,
          55.55,
          34.67,
          15.42,
          42.22,
          19.77,
          24.1,
          74.17,
          14.8,
          13.46,
          30.22,
          22.14,
          51.06,
          31.84,
          64.02,
          31.54,
          34.4,
          44.7,
          17.96,
          40.39,
          25.62,
          32.66,
          16.89,
          47.81,
          31.81,
          33.42,
          7.32,
          19.69,
          28.3,
          31.35,
          52.96,
          76.8,
          29.87,
          47.78,
          33.73,
          45.37,
          42.03,
          32.63,
          37.27,
          46.24,
          53.52,
          50.73,
          51.26,
          40.86,
          32.1,
          17.37,
          37.81,
          40.93,
          7.51,
          52.5,
          29.07,
          8.06,
          24.92,
          42.62,
          23.69,
          33.7,
          11.17,
          46.25,
          54.32,
          26.32,
          42.7,
          17.34,
          19.42,
          33.69,
          48.7,
          31.64,
          35.85,
          50.7,
          25.97,
          4.83,
          35.17,
          32.07,
          9.74,
          43.89,
          28.02,
          25.72,
          9.01,
          65.91,
          21.95,
          43.38,
          47.13,
          35.96,
          15.69,
          32.76,
          25.46,
          10.73,
          49.2,
          56.14,
          23.08,
          56.62,
          55.5,
          30.12,
          39.42,
          33.09,
          35.3,
          39.36,
          37.43,
          45.3,
          15.52,
          41.68,
          31.35,
          4.57,
          54.6,
          24.05,
          31.42,
          58.61,
          65.7,
          10.76,
          53.52,
          57.22,
          41.68,
          17.28,
          57.6,
          54.28,
          35.3,
          13.29,
          13.82,
          44.52,
          27.74,
          74.19,
          42.92,
          17.22,
          51.33,
          6.9,
          15.82,
          61.09,
          24.24,
          60.29,
          39.38,
          48.4,
          53.39,
          23.84,
          17.84,
          8.2,
          38.77,
          37.44,
          35.75,
          31.72,
          33.04,
          40.56,
          55.02,
          45.7,
          41.24,
          43.57,
          37.26,
          64.9,
          74.99,
          56.14,
          21.18,
          38,
          50.53,
          25.37,
          43.7,
          28.99,
          32.72,
          44.33,
          39.23,
          77.3,
          32.05,
          43.7,
          39.3,
          33.72,
          19.69,
          71.99,
          12.45,
          26.92,
          38.8,
          66.78,
          40.87,
          11.47,
          73.3,
          41.54,
          21.06,
          50.94,
          40.06,
          42.14,
          65.2,
          25.12,
          39,
          27.87,
          37.43,
          39.84,
          44.14,
          64.3,
          33.49,
          76.24,
          10.54,
          79.3,
          30.45,
          13.54,
          46.23,
          36.99,
          31.97,
          52.82,
          49.99,
          31.65,
          12.64,
          22.9,
          29,
          24,
          78.8,
          33.94,
          39.7,
          8.37,
          25.2,
          25.18,
          38.46,
          15.09,
          51.96,
          15.44,
          19.54,
          64.3,
          33.69,
          40.66,
          24.39,
          35.87,
          51.02,
          14.54,
          58.52,
          71.3,
          26.06,
          65.2,
          32.4,
          68.75,
          33.12,
          19.2,
          72.99,
          50.77,
          48.99,
          19.93,
          24.43,
          47.97,
          46.9,
          50.95,
          58.78,
          29.16,
          6.81,
          46.2,
          18.03,
          72.1,
          37.43,
          15.03,
          19.77,
          43.73,
          6.28,
          49.77,
          31.97,
          47.1,
          27.66,
          27.94,
          47.22,
          32.9,
          13.33,
          47.4,
          25.56,
          24.28,
          42.42,
          25.57,
          39.7,
          43.5,
          26.14,
          18.28,
          13.12,
          72.3,
          50.66,
          33.66,
          44.03,
          23.25,
          55.25,
          66.7,
          55.9,
          60.29,
          40.57,
          30.57,
          44.21,
          61.92,
          42.55,
          32.96,
          60.2,
          56.06,
          36.56,
          7.75,
          33.05,
          32.25,
          45.37,
          25.18,
          10.34,
          74.36,
          36.45,
          13.52,
          28.94,
          24.9,
          53.72,
          13.2,
          11.36,
          38.89,
          15.42,
          21.82,
          77.3,
          32.4,
          14.14,
          33.54,
          69.84,
          38.6,
          40.86,
          56.1,
          19.11,
          30.23,
          61.86,
          59.59,
          55.2,
          14.84,
          38.33,
          27.04,
          39.78,
          15.52,
          40.76,
          53.3,
          42.13,
          47.74,
          43.25,
          25.51,
          18.91,
          31.18,
          29.93,
          35.36,
          54.38,
          11.85,
          52.3,
          57.21,
          14.2,
          23.52,
          8,
          39.3,
          54.1,
          14.31,
          41.72,
          40.71,
          29.55,
          18.75,
          33.8,
          31.18,
          39.42,
          24.4,
          8.49,
          26.4,
          38.6,
          66.95,
          55.55,
          12.54,
          39.94,
          23.52,
          55.94,
          12.73,
          39.27,
          59.76,
          24.85,
          36.84,
          11.39,
          28.63,
          27.92,
          9.31,
          22.72,
          10.54,
          23.14,
          11.65,
          31.9,
          7.84,
          25.22,
          20.08,
          46.8,
          39.59,
          13.4,
          15.05,
          36.35,
          35.31,
          15.07,
          12.18,
          29.41,
          24.45,
          26.15,
          48.15,
          47.03,
          33.96,
          33.61,
          32.82,
          15.57,
          16.28,
          38.5,
          9.87,
          34.49,
          37.92,
          11.48,
          68.3,
          24.54,
          9.62,
          36.44,
          14.99,
          9.69,
          10.35,
          26.05,
          37.23,
          25.18,
          53.77,
          39.06,
          43.8,
          42.64,
          53.69,
          34.29,
          33.42,
          27.34,
          7.4,
          21.16,
          21.78,
          43.7,
          51.04,
          30.85,
          53.46,
          22.49,
          44.09,
          33,
          10.22,
          13.09,
          39.32,
          50.08,
          9.45,
          79.99,
          79.3,
          52.2,
          14.6,
          20.59,
          37.81,
          71.3,
          25.73,
          35.23,
          69.66,
          18.2,
          15.57,
          54.9,
          48.97,
          56.81,
          19.35,
          18.42,
          21.48,
          47.28,
          21.07,
          50.6,
          38.02,
          29.79,
          42.13,
          15.61,
          29.65,
          43.39,
          21.91,
          48.28,
          43.58,
          22.75,
          33.8,
          13.46,
          19.99,
          79.3,
          41.05,
          36.96,
          39.05,
          33.06,
          31.12,
          20.92,
          30.14,
          44.4,
          24.5,
          71.62,
          36.3,
          38.46,
          35.86,
          40.15,
          31.42,
          20.73,
          4.78,
          46.23,
          33.56,
          23.35,
          32.92,
          41.37,
          32.85,
          35.08,
          38.2,
          23.4,
          20.97,
          12.18,
          13.18,
          19.01,
          14.64,
          11.58,
          30.12,
          26.06,
          56.74,
          23.7,
          37.17,
          32.11,
          38.61,
          33.02,
          36.45,
          52.01,
          7.72,
          28.68,
          59.09,
          24.66,
          17.57,
          46.39,
          31.27,
          66.9,
          24.34,
          20.87,
          30.44,
          29.75,
          15.09,
          24.07,
          52.44,
          67.87,
          39.09,
          35.23,
          38.56,
          56.61,
          22.32,
          49.2,
          6.27,
          25.69,
          61.24,
          67.8,
          24.89,
          47.82,
          35.57,
          58.8,
          35.1,
          21.75,
          28.8,
          30.28,
          15.58,
          24.1,
          34.9,
          29.55,
          14.4,
          55.83,
          15.87,
          43.01,
          15.36,
          22.63,
          33.31,
          34.77,
          36.3,
          44.52,
          56.7,
          63.53,
          26.85,
          33.76,
          37.33,
          38.7,
          73.7,
          53.9,
          25.56,
          37.17,
          53.96,
          21.29,
          41.37,
          10.09,
          17.44,
          39.61,
          12.46,
          41.1,
          52.83,
          8.54,
          41.54,
          38.41,
          22.5,
          64.3,
          41.89,
          33.7,
          23.74,
          49.2,
          44.13,
          48.72,
          51.43,
          44.61,
          57.92,
          15.53,
          66.6,
          77.3,
          41.16,
          45.08,
          17.95,
          39.6,
          24.4,
          34.56,
          46.64,
          27.63,
          41.93,
          56.5,
          40.87,
          19.01,
          40.06,
          32.77,
          53.58,
          28.6,
          46.23,
          13.52,
          62.05,
          27.68,
          66.1,
          17.82,
          23.22,
          34.2,
          24.99,
          39.44,
          38.11,
          21.6,
          34.68,
          38.21,
          14.99,
          30.96,
          22.95,
          55.6,
          15.34,
          54.77,
          37.27,
          18.13,
          40.93,
          24.44,
          55.9,
          33.08,
          67.31,
          59.8,
          55.45,
          27.53,
          52.45,
          16.5,
          56.63,
          29.73,
          35.3,
          17.96,
          44.28,
          44.61,
          31.38,
          36.59,
          41.67,
          82.6,
          40.27,
          42.33,
          56.85,
          25.48,
          40.2,
          59,
          36.15,
          17.17,
          44.39,
          21.02,
          15.34,
          21.26,
          51.02,
          63.14,
          68.5,
          36.94,
          71.3,
          13.57,
          39.66,
          33.73,
          41.05,
          14.94,
          25.61,
          44.64,
          39.58,
          25.89,
          31.87,
          41.94,
          61.8,
          47.71,
          66.82,
          40.93,
          32.01,
          53.66,
          32.72,
          21.97,
          28.24,
          17.54,
          40.29,
          25.42,
          75.5,
          60.29,
          25.02,
          16.5,
          52.52,
          34.24,
          27.23,
          39.45,
          41.2,
          37.96,
          22.84,
          38.7,
          80.2,
          27.22,
          50.24,
          8.54,
          16.11,
          59.3,
          45.71,
          12.55,
          25.1,
          29.39,
          62.94,
          26.23,
          42.64,
          36.44,
          44.21,
          19.99,
          23.52,
          10.79,
          9.56,
          13.2,
          10.39,
          21.91,
          13.29,
          41.3,
          44.28,
          55.06,
          52.61
         ],
         "yaxis": "y"
        }
       ],
       "layout": {
        "legend": {
         "tracegroupgap": 0
        },
        "margin": {
         "t": 60
        },
        "template": {
         "data": {
          "bar": [
           {
            "error_x": {
             "color": "#2a3f5f"
            },
            "error_y": {
             "color": "#2a3f5f"
            },
            "marker": {
             "line": {
              "color": "#E5ECF6",
              "width": 0.5
             }
            },
            "type": "bar"
           }
          ],
          "barpolar": [
           {
            "marker": {
             "line": {
              "color": "#E5ECF6",
              "width": 0.5
             }
            },
            "type": "barpolar"
           }
          ],
          "carpet": [
           {
            "aaxis": {
             "endlinecolor": "#2a3f5f",
             "gridcolor": "white",
             "linecolor": "white",
             "minorgridcolor": "white",
             "startlinecolor": "#2a3f5f"
            },
            "baxis": {
             "endlinecolor": "#2a3f5f",
             "gridcolor": "white",
             "linecolor": "white",
             "minorgridcolor": "white",
             "startlinecolor": "#2a3f5f"
            },
            "type": "carpet"
           }
          ],
          "choropleth": [
           {
            "colorbar": {
             "outlinewidth": 0,
             "ticks": ""
            },
            "type": "choropleth"
           }
          ],
          "contour": [
           {
            "colorbar": {
             "outlinewidth": 0,
             "ticks": ""
            },
            "colorscale": [
             [
              0,
              "#0d0887"
             ],
             [
              0.1111111111111111,
              "#46039f"
             ],
             [
              0.2222222222222222,
              "#7201a8"
             ],
             [
              0.3333333333333333,
              "#9c179e"
             ],
             [
              0.4444444444444444,
              "#bd3786"
             ],
             [
              0.5555555555555556,
              "#d8576b"
             ],
             [
              0.6666666666666666,
              "#ed7953"
             ],
             [
              0.7777777777777778,
              "#fb9f3a"
             ],
             [
              0.8888888888888888,
              "#fdca26"
             ],
             [
              1,
              "#f0f921"
             ]
            ],
            "type": "contour"
           }
          ],
          "contourcarpet": [
           {
            "colorbar": {
             "outlinewidth": 0,
             "ticks": ""
            },
            "type": "contourcarpet"
           }
          ],
          "heatmap": [
           {
            "colorbar": {
             "outlinewidth": 0,
             "ticks": ""
            },
            "colorscale": [
             [
              0,
              "#0d0887"
             ],
             [
              0.1111111111111111,
              "#46039f"
             ],
             [
              0.2222222222222222,
              "#7201a8"
             ],
             [
              0.3333333333333333,
              "#9c179e"
             ],
             [
              0.4444444444444444,
              "#bd3786"
             ],
             [
              0.5555555555555556,
              "#d8576b"
             ],
             [
              0.6666666666666666,
              "#ed7953"
             ],
             [
              0.7777777777777778,
              "#fb9f3a"
             ],
             [
              0.8888888888888888,
              "#fdca26"
             ],
             [
              1,
              "#f0f921"
             ]
            ],
            "type": "heatmap"
           }
          ],
          "heatmapgl": [
           {
            "colorbar": {
             "outlinewidth": 0,
             "ticks": ""
            },
            "colorscale": [
             [
              0,
              "#0d0887"
             ],
             [
              0.1111111111111111,
              "#46039f"
             ],
             [
              0.2222222222222222,
              "#7201a8"
             ],
             [
              0.3333333333333333,
              "#9c179e"
             ],
             [
              0.4444444444444444,
              "#bd3786"
             ],
             [
              0.5555555555555556,
              "#d8576b"
             ],
             [
              0.6666666666666666,
              "#ed7953"
             ],
             [
              0.7777777777777778,
              "#fb9f3a"
             ],
             [
              0.8888888888888888,
              "#fdca26"
             ],
             [
              1,
              "#f0f921"
             ]
            ],
            "type": "heatmapgl"
           }
          ],
          "histogram": [
           {
            "marker": {
             "colorbar": {
              "outlinewidth": 0,
              "ticks": ""
             }
            },
            "type": "histogram"
           }
          ],
          "histogram2d": [
           {
            "colorbar": {
             "outlinewidth": 0,
             "ticks": ""
            },
            "colorscale": [
             [
              0,
              "#0d0887"
             ],
             [
              0.1111111111111111,
              "#46039f"
             ],
             [
              0.2222222222222222,
              "#7201a8"
             ],
             [
              0.3333333333333333,
              "#9c179e"
             ],
             [
              0.4444444444444444,
              "#bd3786"
             ],
             [
              0.5555555555555556,
              "#d8576b"
             ],
             [
              0.6666666666666666,
              "#ed7953"
             ],
             [
              0.7777777777777778,
              "#fb9f3a"
             ],
             [
              0.8888888888888888,
              "#fdca26"
             ],
             [
              1,
              "#f0f921"
             ]
            ],
            "type": "histogram2d"
           }
          ],
          "histogram2dcontour": [
           {
            "colorbar": {
             "outlinewidth": 0,
             "ticks": ""
            },
            "colorscale": [
             [
              0,
              "#0d0887"
             ],
             [
              0.1111111111111111,
              "#46039f"
             ],
             [
              0.2222222222222222,
              "#7201a8"
             ],
             [
              0.3333333333333333,
              "#9c179e"
             ],
             [
              0.4444444444444444,
              "#bd3786"
             ],
             [
              0.5555555555555556,
              "#d8576b"
             ],
             [
              0.6666666666666666,
              "#ed7953"
             ],
             [
              0.7777777777777778,
              "#fb9f3a"
             ],
             [
              0.8888888888888888,
              "#fdca26"
             ],
             [
              1,
              "#f0f921"
             ]
            ],
            "type": "histogram2dcontour"
           }
          ],
          "mesh3d": [
           {
            "colorbar": {
             "outlinewidth": 0,
             "ticks": ""
            },
            "type": "mesh3d"
           }
          ],
          "parcoords": [
           {
            "line": {
             "colorbar": {
              "outlinewidth": 0,
              "ticks": ""
             }
            },
            "type": "parcoords"
           }
          ],
          "pie": [
           {
            "automargin": true,
            "type": "pie"
           }
          ],
          "scatter": [
           {
            "marker": {
             "colorbar": {
              "outlinewidth": 0,
              "ticks": ""
             }
            },
            "type": "scatter"
           }
          ],
          "scatter3d": [
           {
            "line": {
             "colorbar": {
              "outlinewidth": 0,
              "ticks": ""
             }
            },
            "marker": {
             "colorbar": {
              "outlinewidth": 0,
              "ticks": ""
             }
            },
            "type": "scatter3d"
           }
          ],
          "scattercarpet": [
           {
            "marker": {
             "colorbar": {
              "outlinewidth": 0,
              "ticks": ""
             }
            },
            "type": "scattercarpet"
           }
          ],
          "scattergeo": [
           {
            "marker": {
             "colorbar": {
              "outlinewidth": 0,
              "ticks": ""
             }
            },
            "type": "scattergeo"
           }
          ],
          "scattergl": [
           {
            "marker": {
             "colorbar": {
              "outlinewidth": 0,
              "ticks": ""
             }
            },
            "type": "scattergl"
           }
          ],
          "scattermapbox": [
           {
            "marker": {
             "colorbar": {
              "outlinewidth": 0,
              "ticks": ""
             }
            },
            "type": "scattermapbox"
           }
          ],
          "scatterpolar": [
           {
            "marker": {
             "colorbar": {
              "outlinewidth": 0,
              "ticks": ""
             }
            },
            "type": "scatterpolar"
           }
          ],
          "scatterpolargl": [
           {
            "marker": {
             "colorbar": {
              "outlinewidth": 0,
              "ticks": ""
             }
            },
            "type": "scatterpolargl"
           }
          ],
          "scatterternary": [
           {
            "marker": {
             "colorbar": {
              "outlinewidth": 0,
              "ticks": ""
             }
            },
            "type": "scatterternary"
           }
          ],
          "surface": [
           {
            "colorbar": {
             "outlinewidth": 0,
             "ticks": ""
            },
            "colorscale": [
             [
              0,
              "#0d0887"
             ],
             [
              0.1111111111111111,
              "#46039f"
             ],
             [
              0.2222222222222222,
              "#7201a8"
             ],
             [
              0.3333333333333333,
              "#9c179e"
             ],
             [
              0.4444444444444444,
              "#bd3786"
             ],
             [
              0.5555555555555556,
              "#d8576b"
             ],
             [
              0.6666666666666666,
              "#ed7953"
             ],
             [
              0.7777777777777778,
              "#fb9f3a"
             ],
             [
              0.8888888888888888,
              "#fdca26"
             ],
             [
              1,
              "#f0f921"
             ]
            ],
            "type": "surface"
           }
          ],
          "table": [
           {
            "cells": {
             "fill": {
              "color": "#EBF0F8"
             },
             "line": {
              "color": "white"
             }
            },
            "header": {
             "fill": {
              "color": "#C8D4E3"
             },
             "line": {
              "color": "white"
             }
            },
            "type": "table"
           }
          ]
         },
         "layout": {
          "annotationdefaults": {
           "arrowcolor": "#2a3f5f",
           "arrowhead": 0,
           "arrowwidth": 1
          },
          "coloraxis": {
           "colorbar": {
            "outlinewidth": 0,
            "ticks": ""
           }
          },
          "colorscale": {
           "diverging": [
            [
             0,
             "#8e0152"
            ],
            [
             0.1,
             "#c51b7d"
            ],
            [
             0.2,
             "#de77ae"
            ],
            [
             0.3,
             "#f1b6da"
            ],
            [
             0.4,
             "#fde0ef"
            ],
            [
             0.5,
             "#f7f7f7"
            ],
            [
             0.6,
             "#e6f5d0"
            ],
            [
             0.7,
             "#b8e186"
            ],
            [
             0.8,
             "#7fbc41"
            ],
            [
             0.9,
             "#4d9221"
            ],
            [
             1,
             "#276419"
            ]
           ],
           "sequential": [
            [
             0,
             "#0d0887"
            ],
            [
             0.1111111111111111,
             "#46039f"
            ],
            [
             0.2222222222222222,
             "#7201a8"
            ],
            [
             0.3333333333333333,
             "#9c179e"
            ],
            [
             0.4444444444444444,
             "#bd3786"
            ],
            [
             0.5555555555555556,
             "#d8576b"
            ],
            [
             0.6666666666666666,
             "#ed7953"
            ],
            [
             0.7777777777777778,
             "#fb9f3a"
            ],
            [
             0.8888888888888888,
             "#fdca26"
            ],
            [
             1,
             "#f0f921"
            ]
           ],
           "sequentialminus": [
            [
             0,
             "#0d0887"
            ],
            [
             0.1111111111111111,
             "#46039f"
            ],
            [
             0.2222222222222222,
             "#7201a8"
            ],
            [
             0.3333333333333333,
             "#9c179e"
            ],
            [
             0.4444444444444444,
             "#bd3786"
            ],
            [
             0.5555555555555556,
             "#d8576b"
            ],
            [
             0.6666666666666666,
             "#ed7953"
            ],
            [
             0.7777777777777778,
             "#fb9f3a"
            ],
            [
             0.8888888888888888,
             "#fdca26"
            ],
            [
             1,
             "#f0f921"
            ]
           ]
          },
          "colorway": [
           "#636efa",
           "#EF553B",
           "#00cc96",
           "#ab63fa",
           "#FFA15A",
           "#19d3f3",
           "#FF6692",
           "#B6E880",
           "#FF97FF",
           "#FECB52"
          ],
          "font": {
           "color": "#2a3f5f"
          },
          "geo": {
           "bgcolor": "white",
           "lakecolor": "white",
           "landcolor": "#E5ECF6",
           "showlakes": true,
           "showland": true,
           "subunitcolor": "white"
          },
          "hoverlabel": {
           "align": "left"
          },
          "hovermode": "closest",
          "mapbox": {
           "style": "light"
          },
          "paper_bgcolor": "white",
          "plot_bgcolor": "#E5ECF6",
          "polar": {
           "angularaxis": {
            "gridcolor": "white",
            "linecolor": "white",
            "ticks": ""
           },
           "bgcolor": "#E5ECF6",
           "radialaxis": {
            "gridcolor": "white",
            "linecolor": "white",
            "ticks": ""
           }
          },
          "scene": {
           "xaxis": {
            "backgroundcolor": "#E5ECF6",
            "gridcolor": "white",
            "gridwidth": 2,
            "linecolor": "white",
            "showbackground": true,
            "ticks": "",
            "zerolinecolor": "white"
           },
           "yaxis": {
            "backgroundcolor": "#E5ECF6",
            "gridcolor": "white",
            "gridwidth": 2,
            "linecolor": "white",
            "showbackground": true,
            "ticks": "",
            "zerolinecolor": "white"
           },
           "zaxis": {
            "backgroundcolor": "#E5ECF6",
            "gridcolor": "white",
            "gridwidth": 2,
            "linecolor": "white",
            "showbackground": true,
            "ticks": "",
            "zerolinecolor": "white"
           }
          },
          "shapedefaults": {
           "line": {
            "color": "#2a3f5f"
           }
          },
          "ternary": {
           "aaxis": {
            "gridcolor": "white",
            "linecolor": "white",
            "ticks": ""
           },
           "baxis": {
            "gridcolor": "white",
            "linecolor": "white",
            "ticks": ""
           },
           "bgcolor": "#E5ECF6",
           "caxis": {
            "gridcolor": "white",
            "linecolor": "white",
            "ticks": ""
           }
          },
          "title": {
           "x": 0.05
          },
          "xaxis": {
           "automargin": true,
           "gridcolor": "white",
           "linecolor": "white",
           "ticks": "",
           "title": {
            "standoff": 15
           },
           "zerolinecolor": "white",
           "zerolinewidth": 2
          },
          "yaxis": {
           "automargin": true,
           "gridcolor": "white",
           "linecolor": "white",
           "ticks": "",
           "title": {
            "standoff": 15
           },
           "zerolinecolor": "white",
           "zerolinewidth": 2
          }
         }
        },
        "xaxis": {
         "anchor": "y",
         "domain": [
          0,
          1
         ],
         "title": {
          "text": "x"
         }
        },
        "yaxis": {
         "anchor": "x",
         "domain": [
          0,
          1
         ],
         "title": {
          "text": "y"
         }
        }
       }
      },
      "text/html": [
       "<div>\n",
       "        \n",
       "        \n",
       "            <div id=\"574a3ec8-da38-4319-9be8-7f050e24b647\" class=\"plotly-graph-div\" style=\"height:525px; width:100%;\"></div>\n",
       "            <script type=\"text/javascript\">\n",
       "                require([\"plotly\"], function(Plotly) {\n",
       "                    window.PLOTLYENV=window.PLOTLYENV || {};\n",
       "                    \n",
       "                if (document.getElementById(\"574a3ec8-da38-4319-9be8-7f050e24b647\")) {\n",
       "                    Plotly.newPlot(\n",
       "                        '574a3ec8-da38-4319-9be8-7f050e24b647',\n",
       "                        [{\"hoverlabel\": {\"namelength\": 0}, \"hovertemplate\": \"x=%{x}<br>y=%{y}\", \"legendgroup\": \"\", \"marker\": {\"color\": \"#636efa\", \"symbol\": \"circle\"}, \"mode\": \"markers\", \"name\": \"\", \"showlegend\": false, \"type\": \"scattergl\", \"x\": [141.3, 168.9, 250.0, 266.0, 154.8, 255.0, 166.8, 251.4, 296.0, 155.0, 151.8, 173.0, 385.0, 237.5, 167.0, 213.8, 237.5, 336.0, 190.7, 312.7, 229.7, 228.0, 236.0, 132.0, 331.0, 310.0, 304.0, 425.0, 166.1, 255.0, 339.0, 475.0, 145.7, 313.0, 331.0, 178.0, 165.0, 277.2, 325.0, 167.0, 194.7, 246.8, 382.0, 149.0, 531.3, 387.0, 193.5, 326.0, 337.9, 425.0, 200.0, 331.0, 218.9, 234.0, 309.9, 350.0, 182.0, 480.0, 295.7, 250.0, 178.0, 233.8, 194.7, 379.5, 332.5, 350.0, 237.0, 238.1, 295.7, 323.7, 200.0, 342.0, 388.6, 147.8, 290.4, 500.0, 284.0, 165.0, 218.2, 168.9, 190.3, 116.0, 277.0, 376.0, 236.0, 273.0, 500.0, 212.5, 362.6, 275.1, 139.6, 362.6, 182.0, 427.5, 183.9, 475.0, 362.6, 318.8, 252.0, 237.5, 149.5, 540.0, 313.0, 380.0, 251.4, 436.0, 155.0, 281.0, 151.6, 326.5, 397.0, 238.0, 158.6, 385.0, 302.0, 192.0, 155.6, 160.0, 222.4, 251.8, 331.0, 250.0, 155.0, 213.5, 446.0, 133.0, 122.6, 290.2, 323.7, 375.0, 181.4, 298.2, 236.0, 236.0, 339.0, 387.0, 166.8, 387.0, 133.0, 162.0, 262.0, 213.7, 332.5, 313.3, 302.0, 183.9, 500.0, 218.2, 387.0, 380.0, 213.5, 160.0, 322.0, 173.5, 252.0, 299.8, 531.3, 198.6, 116.0, 304.0, 331.0, 286.3, 349.0, 520.0, 252.1, 255.5, 446.0, 172.4, 190.7, 322.0, 446.0, 178.0, 212.1, 276.0, 393.0, 238.1, 230.0, 389.9, 157.0, 296.0, 230.0, 359.0, 374.0, 102.0, 202.0, 350.0, 236.0, 252.0, 252.3, 336.5, 362.6, 218.2, 315.0, 159.0, 154.8, 281.0, 231.8, 318.8, 266.0, 277.0, 166.8, 159.8, 397.0, 231.8, 164.6, 122.6, 136.4, 190.0, 337.9, 349.0, 184.0, 424.0, 379.5, 212.0, 156.0, 136.0, 246.8, 203.5, 385.0, 181.4, 254.0, 359.0, 230.0, 382.0, 220.8, 313.3, 167.4, 144.0, 310.0, 425.0, 108.3, 214.9, 469.0, 310.0, 522.0, 236.0, 213.7, 250.2, 149.0, 439.0, 313.0, 427.5, 165.0, 322.5, 393.0, 362.6, 122.6, 213.7, 200.0, 108.3, 213.8, 290.4, 153.0, 229.7, 251.4, 322.0, 525.0, 389.9, 252.3, 475.0, 259.9, 310.0, 266.0, 236.9, 366.0, 333.0, 326.0, 145.9, 133.0, 251.4, 500.0, 154.8, 349.0, 389.9, 162.0, 277.1, 166.0, 277.0, 425.0, 439.0, 540.0, 480.0, 382.0, 475.0, 143.0, 203.5, 374.0, 181.9, 153.0, 450.1, 238.0, 380.0, 469.0, 528.0, 238.2, 186.2, 212.6, 475.0, 425.0, 198.6, 491.0, 277.1, 342.0, 387.0, 152.6, 281.0, 198.6, 491.0, 290.4, 144.0, 246.8, 252.5, 236.0, 540.0, 295.0, 150.7, 218.9, 233.8, 249.1, 339.0, 505.0, 230.0, 374.0, 139.6, 148.1, 190.3, 376.0, 251.4, 157.0, 304.0, 167.4, 304.0, 182.0, 252.0, 323.7, 350.0, 213.5, 286.3, 143.7, 236.0, 213.7, 181.4, 249.1, 193.5, 194.7, 289.0, 298.0, 192.0, 213.5, 190.0, 173.0, 213.5, 173.8, 284.0, 135.7, 246.8, 136.0, 139.6, 250.0, 475.0, 149.0, 277.0, 225.0, 289.0, 480.0, 153.0, 231.8, 225.0, 190.3, 172.4, 266.0, 212.5, 172.4, 388.6, 277.0, 141.3, 339.0, 289.0, 154.8, 480.0, 198.6, 194.7, 349.0, 366.0, 236.0, 305.3, 213.8, 218.2, 238.2, 159.0, 102.0, 170.3, 425.0, 342.0, 173.5, 330.5, 318.8, 304.8, 266.0, 165.0, 362.6, 139.6, 150.0, 310.0, 148.0, 203.5, 212.0, 102.0, 305.3, 183.9, 296.0, 275.1, 424.0, 166.1, 297.8, 321.3, 333.0, 102.0, 388.6, 480.0, 362.6, 134.7, 250.0, 284.0, 393.0, 475.0, 212.5, 251.4, 275.1, 166.8, 173.8, 374.0, 168.0, 425.0, 331.0, 525.0, 446.0, 300.0, 213.8, 255.0, 275.1, 382.5, 359.0, 190.3, 290.2, 380.0, 165.0, 375.0, 331.0, 277.0, 321.0, 313.3, 522.0, 446.0, 339.2, 286.3, 288.0, 212.6, 400.0, 155.2, 349.0, 334.0, 168.0, 362.6, 255.5, 427.5, 439.0, 261.9, 252.0, 485.0, 194.7, 148.0, 288.0, 359.0, 356.0, 382.0, 439.0, 264.5, 190.7, 173.8, 317.9, 288.4, 425.0, 359.0, 237.5, 133.0, 427.5, 162.0, 251.8, 425.0, 491.0, 275.0, 145.4, 362.6, 277.2, 212.5, 218.9, 297.2, 333.0, 280.0, 178.0, 339.0, 500.0, 362.6, 375.0, 382.0, 451.0, 251.8, 212.0, 153.0, 318.8, 296.0, 313.8, 164.0, 297.2, 231.8, 203.5, 425.0, 310.0, 349.0, 480.0, 298.1, 446.0, 381.4, 475.0, 362.6, 500.0, 425.0, 261.0, 359.0, 237.5, 393.0, 286.3, 213.7, 173.8, 238.1, 251.4, 387.0, 531.3, 304.0, 525.0, 145.0, 212.0, 374.0, 165.0, 424.0, 150.0, 212.0, 272.8, 284.0, 116.0, 260.0, 376.0, 379.5, 233.8, 181.9, 500.0, 167.0, 212.6, 297.2, 153.1, 173.0, 525.0, 289.0, 228.0, 182.0, 144.0, 155.0, 251.4, 475.0, 190.0, 157.0, 355.0, 202.0, 446.0, 425.0, 362.6, 425.0, 190.7, 325.0, 251.4, 525.0, 212.5, 149.0, 375.0, 173.5, 165.0, 168.0, 157.0, 272.6, 251.8, 322.0, 238.1, 424.0, 339.0, 331.0, 133.1, 212.1, 165.0, 145.0, 277.0, 339.0, 143.6, 210.7, 362.6, 260.9, 305.3, 166.1, 500.0, 475.0, 229.7, 439.0, 393.0, 238.1, 491.0, 491.0, 388.6, 295.8, 250.0, 339.0, 332.5, 167.0, 380.0, 380.0, 288.0, 212.6, 200.0, 387.0, 296.0, 322.2, 251.4, 446.0, 304.0, 310.0, 405.0, 321.0, 275.0, 149.0, 186.2, 446.0, 401.8, 331.0, 198.6, 222.4, 173.8, 255.0, 255.3, 322.0, 266.2, 480.0, 250.0, 190.7, 214.9, 277.2, 385.0, 307.0, 295.7, 246.8, 525.0, 250.0, 251.4, 540.0, 190.3, 387.0, 173.0, 166.1, 310.0, 254.0, 190.3, 145.0, 277.1, 289.0, 339.2, 200.0, 295.8, 230.0, 425.0, 238.1, 284.0, 349.0, 152.0, 160.2, 202.0, 194.7, 156.0, 222.4, 143.8, 168.9, 266.0, 194.7, 349.0, 380.0, 151.0, 376.0, 212.0, 310.0, 307.0, 166.0, 252.5, 475.0, 229.7, 158.8, 139.9, 349.0, 157.0, 122.6, 218.9, 331.0, 295.0, 173.5, 374.3, 287.3, 298.1, 190.0, 350.0, 303.6, 350.0, 168.9, 339.0, 252.3, 380.0, 500.0, 249.1, 167.0, 381.4, 500.0, 212.0, 255.0, 220.8, 192.0, 213.7, 190.3, 540.0, 362.6, 214.9, 289.0, 108.3, 210.7, 362.6, 170.3, 140.0, 540.0, 135.7, 150.9, 469.0, 290.4, 167.0, 250.2, 236.0, 192.0, 333.0, 158.8, 252.3, 446.0, 254.0, 349.0, 213.5, 251.4, 194.7, 135.0, 277.1, 251.4, 387.0, 525.0, 151.0, 146.5, 362.6, 313.3, 250.2, 374.0, 146.0, 168.9, 212.1, 400.0, 212.6, 275.0, 540.0, 376.0, 314.0, 298.0, 251.4, 296.0, 251.4, 153.0, 314.0, 190.3, 446.0, 307.0, 516.0, 168.0, 427.5, 173.5, 333.0, 339.0, 152.0, 213.8, 152.7, 198.6, 222.4, 305.0, 375.0, 297.2, 148.5, 272.8, 424.0, 359.0, 332.5, 380.0, 446.0, 108.3, 249.1, 389.9, 250.0, 213.7, 165.0, 182.0, 469.0, 154.0, 250.0, 200.0, 172.4, 164.2, 382.5, 313.0, 250.0, 397.0, 139.7, 190.3, 331.0, 229.7, 425.0, 385.0, 238.1, 325.6, 337.9, 222.4, 212.0, 181.4, 531.3, 337.9, 302.0, 313.3, 332.5, 300.0, 337.9, 388.6, 491.0, 165.0, 252.3, 349.0, 427.5, 249.1, 203.5, 132.0, 387.0, 425.0, 312.7, 375.0, 218.2, 300.0, 162.0, 310.0, 310.0, 401.8, 213.7, 153.0, 273.0, 214.9, 172.4, 516.0, 116.0, 331.0, 212.1, 155.0, 401.8, 279.8, 158.4, 265.0, 237.5, 290.4, 425.0, 277.1, 213.5, 146.0, 425.0, 500.1, 295.7, 213.5, 141.9, 491.0, 148.1, 313.3, 362.6, 250.0, 212.0, 148.0, 393.0, 286.3, 233.8, 213.7, 254.0, 475.0, 379.5, 355.9, 153.0, 318.0, 159.1, 285.0, 379.5, 314.0, 331.0, 424.0, 159.0, 318.8, 168.0, 385.0, 212.1, 194.7, 239.6, 310.0, 181.4, 310.0, 375.0, 310.0, 297.0, 295.7, 475.0, 144.0, 446.0, 321.4, 350.0, 313.3, 316.1, 362.6, 397.0, 540.0, 313.3, 355.0, 307.0, 312.9, 153.6, 214.9, 143.0, 362.6, 153.0, 194.7, 142.0, 272.8, 133.0, 387.0, 389.9, 332.5, 190.0, 275.1, 166.1, 469.0, 356.0, 307.0, 200.0, 313.0, 251.8, 218.9, 277.0, 520.0, 277.2, 401.8, 397.0, 362.6, 236.0, 141.3, 231.8, 349.0, 167.4, 491.0, 213.5, 393.0, 305.3, 298.0, 287.0, 425.0, 250.2, 277.2, 284.0, 424.0, 167.4, 350.0, 202.0, 139.6, 238.0, 424.0, 239.6, 401.8, 425.0, 446.0, 154.0, 380.0, 178.0, 164.0, 160.0, 167.4, 165.0, 233.8, 316.1, 323.7, 250.0, 387.0, 158.0, 288.0, 213.5, 213.7, 190.3, 313.0, 296.0, 359.0, 153.1, 298.0, 140.0, 139.6, 147.0, 288.0, 183.9, 203.5, 144.8, 141.3, 297.2, 135.0, 531.3, 276.4, 342.0, 540.0], \"xaxis\": \"x\", \"y\": [29.89, 23.51, 29.22, 45.85, 18.29, 21.86, 15.75, 36.64, 21.65, 28.99, 36.35, 6.94, 27.92, 26.26, 23.89, 49.97, 30.08, 44.86, 15.04, 25.1, 13.36, 21.92, 20.42, 33.3, 31.74, 45.3, 49.19, 65.2, 21.54, 33.8, 32.04, 39.29, 23.74, 44.52, 37.91, 39.16, 16.88, 47.71, 17.54, 41.41, 24.28, 60.32, 37.42, 23.52, 59.2, 61.46, 17.2, 40.68, 49.9, 33.4, 49.25, 39.0, 37.27, 39.3, 38.22, 20.28, 48.67, 34.57, 35.23, 42.35, 20.73, 10.38, 37.34, 54.9, 41.05, 29.98, 28.63, 44.3, 52.04, 49.8, 11.41, 50.46, 28.1, 26.92, 45.08, 36.94, 24.13, 19.42, 27.42, 39.15, 28.47, 31.02, 31.25, 43.06, 12.84, 32.24, 67.57, 26.31, 35.3, 23.8, 14.59, 55.9, 21.5, 41.84, 4.9, 57.23, 71.3, 33.4, 33.4, 36.25, 32.96, 61.89, 36.8, 53.1, 11.98, 23.85, 9.74, 14.5, 12.18, 38.63, 55.65, 12.05, 27.68, 31.35, 18.13, 12.79, 37.36, 39.4, 29.45, 33.36, 16.26, 39.64, 23.79, 45.94, 61.07, 31.03, 33.19, 21.86, 74.7, 62.5, 27.77, 31.88, 9.99, 25.08, 13.22, 56.34, 43.57, 46.68, 6.88, 30.65, 33.72, 30.39, 37.72, 42.8, 26.74, 32.53, 33.21, 55.51, 46.68, 41.15, 29.59, 32.84, 29.59, 33.01, 11.47, 23.84, 56.4, 44.3, 22.35, 55.26, 31.45, 67.7, 18.13, 60.28, 33.4, 17.24, 44.42, 37.68, 35.34, 52.42, 57.03, 48.59, 12.47, 44.28, 48.85, 17.58, 10.03, 40.6, 43.38, 14.2, 24.48, 59.49, 63.4, 7.68, 9.85, 22.53, 32.88, 13.71, 60.95, 44.87, 77.3, 61.99, 81.75, 30.88, 23.79, 22.44, 26.77, 68.1, 52.91, 32.33, 33.95, 39.46, 25.45, 45.84, 18.03, 24.29, 29.07, 46.93, 59.89, 39.49, 22.93, 39.0, 52.2, 19.52, 37.36, 26.97, 66.42, 11.96, 14.7, 13.62, 26.94, 23.64, 35.34, 24.0, 25.75, 36.8, 51.72, 29.87, 35.76, 64.9, 2.33, 18.02, 69.3, 27.83, 50.51, 6.47, 18.0, 9.73, 24.58, 71.7, 41.05, 41.54, 26.2, 52.43, 48.79, 79.3, 3.32, 40.15, 12.25, 29.23, 40.23, 34.74, 26.86, 31.35, 33.27, 20.77, 67.11, 79.4, 42.29, 37.8, 49.77, 17.24, 51.73, 28.63, 65.91, 15.62, 61.23, 32.72, 13.66, 36.97, 55.16, 12.46, 40.86, 74.5, 33.76, 55.64, 37.91, 43.58, 33.4, 66.0, 41.64, 43.94, 37.42, 42.23, 29.72, 51.86, 64.9, 12.37, 26.23, 39.38, 17.54, 52.91, 70.7, 56.83, 26.91, 17.6, 37.4, 42.13, 33.4, 9.13, 37.92, 51.04, 52.12, 45.9, 26.86, 22.44, 38.07, 55.55, 34.67, 15.42, 42.22, 19.77, 24.1, 74.17, 14.8, 13.46, 30.22, 22.14, 51.06, 31.84, 64.02, 31.54, 34.4, 44.7, 17.96, 40.39, 25.62, 32.66, 16.89, 47.81, 31.81, 33.42, 7.32, 19.69, 28.3, 31.35, 52.96, 76.8, 29.87, 47.78, 33.73, 45.37, 42.03, 32.63, 37.27, 46.24, 53.52, 50.73, 51.26, 40.86, 32.1, 17.37, 37.81, 40.93, 7.51, 52.5, 29.07, 8.06, 24.92, 42.62, 23.69, 33.7, 11.17, 46.25, 54.32, 26.32, 42.7, 17.34, 19.42, 33.69, 48.7, 31.64, 35.85, 50.7, 25.97, 4.83, 35.17, 32.07, 9.74, 43.89, 28.02, 25.72, 9.01, 65.91, 21.95, 43.38, 47.13, 35.96, 15.69, 32.76, 25.46, 10.73, 49.2, 56.14, 23.08, 56.62, 55.5, 30.12, 39.42, 33.09, 35.3, 39.36, 37.43, 45.3, 15.52, 41.68, 31.35, 4.57, 54.6, 24.05, 31.42, 58.61, 65.7, 10.76, 53.52, 57.22, 41.68, 17.28, 57.6, 54.28, 35.3, 13.29, 13.82, 44.52, 27.74, 74.19, 42.92, 17.22, 51.33, 6.9, 15.82, 61.09, 24.24, 60.29, 39.38, 48.4, 53.39, 23.84, 17.84, 8.2, 38.77, 37.44, 35.75, 31.72, 33.04, 40.56, 55.02, 45.7, 41.24, 43.57, 37.26, 64.9, 74.99, 56.14, 21.18, 38.0, 50.53, 25.37, 43.7, 28.99, 32.72, 44.33, 39.23, 77.3, 32.05, 43.7, 39.3, 33.72, 19.69, 71.99, 12.45, 26.92, 38.8, 66.78, 40.87, 11.47, 73.3, 41.54, 21.06, 50.94, 40.06, 42.14, 65.2, 25.12, 39.0, 27.87, 37.43, 39.84, 44.14, 64.3, 33.49, 76.24, 10.54, 79.3, 30.45, 13.54, 46.23, 36.99, 31.97, 52.82, 49.99, 31.65, 12.64, 22.9, 29.0, 24.0, 78.8, 33.94, 39.7, 8.37, 25.2, 25.18, 38.46, 15.09, 51.96, 15.44, 19.54, 64.3, 33.69, 40.66, 24.39, 35.87, 51.02, 14.54, 58.52, 71.3, 26.06, 65.2, 32.4, 68.75, 33.12, 19.2, 72.99, 50.77, 48.99, 19.93, 24.43, 47.97, 46.9, 50.95, 58.78, 29.16, 6.81, 46.2, 18.03, 72.1, 37.43, 15.03, 19.77, 43.73, 6.28, 49.77, 31.97, 47.1, 27.66, 27.94, 47.22, 32.9, 13.33, 47.4, 25.56, 24.28, 42.42, 25.57, 39.7, 43.5, 26.14, 18.28, 13.12, 72.3, 50.66, 33.66, 44.03, 23.25, 55.25, 66.7, 55.9, 60.29, 40.57, 30.57, 44.21, 61.92, 42.55, 32.96, 60.2, 56.06, 36.56, 7.75, 33.05, 32.25, 45.37, 25.18, 10.34, 74.36, 36.45, 13.52, 28.94, 24.9, 53.72, 13.2, 11.36, 38.89, 15.42, 21.82, 77.3, 32.4, 14.14, 33.54, 69.84, 38.6, 40.86, 56.1, 19.11, 30.23, 61.86, 59.59, 55.2, 14.84, 38.33, 27.04, 39.78, 15.52, 40.76, 53.3, 42.13, 47.74, 43.25, 25.51, 18.91, 31.18, 29.93, 35.36, 54.38, 11.85, 52.3, 57.21, 14.2, 23.52, 8.0, 39.3, 54.1, 14.31, 41.72, 40.71, 29.55, 18.75, 33.8, 31.18, 39.42, 24.4, 8.49, 26.4, 38.6, 66.95, 55.55, 12.54, 39.94, 23.52, 55.94, 12.73, 39.27, 59.76, 24.85, 36.84, 11.39, 28.63, 27.92, 9.31, 22.72, 10.54, 23.14, 11.65, 31.9, 7.84, 25.22, 20.08, 46.8, 39.59, 13.4, 15.05, 36.35, 35.31, 15.07, 12.18, 29.41, 24.45, 26.15, 48.15, 47.03, 33.96, 33.61, 32.82, 15.57, 16.28, 38.5, 9.87, 34.49, 37.92, 11.48, 68.3, 24.54, 9.62, 36.44, 14.99, 9.69, 10.35, 26.05, 37.23, 25.18, 53.77, 39.06, 43.8, 42.64, 53.69, 34.29, 33.42, 27.34, 7.4, 21.16, 21.78, 43.7, 51.04, 30.85, 53.46, 22.49, 44.09, 33.0, 10.22, 13.09, 39.32, 50.08, 9.45, 79.99, 79.3, 52.2, 14.6, 20.59, 37.81, 71.3, 25.73, 35.23, 69.66, 18.2, 15.57, 54.9, 48.97, 56.81, 19.35, 18.42, 21.48, 47.28, 21.07, 50.6, 38.02, 29.79, 42.13, 15.61, 29.65, 43.39, 21.91, 48.28, 43.58, 22.75, 33.8, 13.46, 19.99, 79.3, 41.05, 36.96, 39.05, 33.06, 31.12, 20.92, 30.14, 44.4, 24.5, 71.62, 36.3, 38.46, 35.86, 40.15, 31.42, 20.73, 4.78, 46.23, 33.56, 23.35, 32.92, 41.37, 32.85, 35.08, 38.2, 23.4, 20.97, 12.18, 13.18, 19.01, 14.64, 11.58, 30.12, 26.06, 56.74, 23.7, 37.17, 32.11, 38.61, 33.02, 36.45, 52.01, 7.72, 28.68, 59.09, 24.66, 17.57, 46.39, 31.27, 66.9, 24.34, 20.87, 30.44, 29.75, 15.09, 24.07, 52.44, 67.87, 39.09, 35.23, 38.56, 56.61, 22.32, 49.2, 6.27, 25.69, 61.24, 67.8, 24.89, 47.82, 35.57, 58.8, 35.1, 21.75, 28.8, 30.28, 15.58, 24.1, 34.9, 29.55, 14.4, 55.83, 15.87, 43.01, 15.36, 22.63, 33.31, 34.77, 36.3, 44.52, 56.7, 63.53, 26.85, 33.76, 37.33, 38.7, 73.7, 53.9, 25.56, 37.17, 53.96, 21.29, 41.37, 10.09, 17.44, 39.61, 12.46, 41.1, 52.83, 8.54, 41.54, 38.41, 22.5, 64.3, 41.89, 33.7, 23.74, 49.2, 44.13, 48.72, 51.43, 44.61, 57.92, 15.53, 66.6, 77.3, 41.16, 45.08, 17.95, 39.6, 24.4, 34.56, 46.64, 27.63, 41.93, 56.5, 40.87, 19.01, 40.06, 32.77, 53.58, 28.6, 46.23, 13.52, 62.05, 27.68, 66.1, 17.82, 23.22, 34.2, 24.99, 39.44, 38.11, 21.6, 34.68, 38.21, 14.99, 30.96, 22.95, 55.6, 15.34, 54.77, 37.27, 18.13, 40.93, 24.44, 55.9, 33.08, 67.31, 59.8, 55.45, 27.53, 52.45, 16.5, 56.63, 29.73, 35.3, 17.96, 44.28, 44.61, 31.38, 36.59, 41.67, 82.6, 40.27, 42.33, 56.85, 25.48, 40.2, 59.0, 36.15, 17.17, 44.39, 21.02, 15.34, 21.26, 51.02, 63.14, 68.5, 36.94, 71.3, 13.57, 39.66, 33.73, 41.05, 14.94, 25.61, 44.64, 39.58, 25.89, 31.87, 41.94, 61.8, 47.71, 66.82, 40.93, 32.01, 53.66, 32.72, 21.97, 28.24, 17.54, 40.29, 25.42, 75.5, 60.29, 25.02, 16.5, 52.52, 34.24, 27.23, 39.45, 41.2, 37.96, 22.84, 38.7, 80.2, 27.22, 50.24, 8.54, 16.11, 59.3, 45.71, 12.55, 25.1, 29.39, 62.94, 26.23, 42.64, 36.44, 44.21, 19.99, 23.52, 10.79, 9.56, 13.2, 10.39, 21.91, 13.29, 41.3, 44.28, 55.06, 52.61], \"yaxis\": \"y\"}],\n",
       "                        {\"legend\": {\"tracegroupgap\": 0}, \"margin\": {\"t\": 60}, \"template\": {\"data\": {\"bar\": [{\"error_x\": {\"color\": \"#2a3f5f\"}, \"error_y\": {\"color\": \"#2a3f5f\"}, \"marker\": {\"line\": {\"color\": \"#E5ECF6\", \"width\": 0.5}}, \"type\": \"bar\"}], \"barpolar\": [{\"marker\": {\"line\": {\"color\": \"#E5ECF6\", \"width\": 0.5}}, \"type\": \"barpolar\"}], \"carpet\": [{\"aaxis\": {\"endlinecolor\": \"#2a3f5f\", \"gridcolor\": \"white\", \"linecolor\": \"white\", \"minorgridcolor\": \"white\", \"startlinecolor\": \"#2a3f5f\"}, \"baxis\": {\"endlinecolor\": \"#2a3f5f\", \"gridcolor\": \"white\", \"linecolor\": \"white\", \"minorgridcolor\": \"white\", \"startlinecolor\": \"#2a3f5f\"}, \"type\": \"carpet\"}], \"choropleth\": [{\"colorbar\": {\"outlinewidth\": 0, \"ticks\": \"\"}, \"type\": \"choropleth\"}], \"contour\": [{\"colorbar\": {\"outlinewidth\": 0, \"ticks\": \"\"}, \"colorscale\": [[0.0, \"#0d0887\"], [0.1111111111111111, \"#46039f\"], [0.2222222222222222, \"#7201a8\"], [0.3333333333333333, \"#9c179e\"], [0.4444444444444444, \"#bd3786\"], [0.5555555555555556, \"#d8576b\"], [0.6666666666666666, \"#ed7953\"], [0.7777777777777778, \"#fb9f3a\"], [0.8888888888888888, \"#fdca26\"], [1.0, \"#f0f921\"]], \"type\": \"contour\"}], \"contourcarpet\": [{\"colorbar\": {\"outlinewidth\": 0, \"ticks\": \"\"}, \"type\": \"contourcarpet\"}], \"heatmap\": [{\"colorbar\": {\"outlinewidth\": 0, \"ticks\": \"\"}, \"colorscale\": [[0.0, \"#0d0887\"], [0.1111111111111111, \"#46039f\"], [0.2222222222222222, \"#7201a8\"], [0.3333333333333333, \"#9c179e\"], [0.4444444444444444, \"#bd3786\"], [0.5555555555555556, \"#d8576b\"], [0.6666666666666666, \"#ed7953\"], [0.7777777777777778, \"#fb9f3a\"], [0.8888888888888888, \"#fdca26\"], [1.0, \"#f0f921\"]], \"type\": \"heatmap\"}], \"heatmapgl\": [{\"colorbar\": {\"outlinewidth\": 0, \"ticks\": \"\"}, \"colorscale\": [[0.0, \"#0d0887\"], [0.1111111111111111, \"#46039f\"], [0.2222222222222222, \"#7201a8\"], [0.3333333333333333, \"#9c179e\"], [0.4444444444444444, \"#bd3786\"], [0.5555555555555556, \"#d8576b\"], [0.6666666666666666, \"#ed7953\"], [0.7777777777777778, \"#fb9f3a\"], [0.8888888888888888, \"#fdca26\"], [1.0, \"#f0f921\"]], \"type\": \"heatmapgl\"}], \"histogram\": [{\"marker\": {\"colorbar\": {\"outlinewidth\": 0, \"ticks\": \"\"}}, \"type\": \"histogram\"}], \"histogram2d\": [{\"colorbar\": {\"outlinewidth\": 0, \"ticks\": \"\"}, \"colorscale\": [[0.0, \"#0d0887\"], [0.1111111111111111, \"#46039f\"], [0.2222222222222222, \"#7201a8\"], [0.3333333333333333, \"#9c179e\"], [0.4444444444444444, \"#bd3786\"], [0.5555555555555556, \"#d8576b\"], [0.6666666666666666, \"#ed7953\"], [0.7777777777777778, \"#fb9f3a\"], [0.8888888888888888, \"#fdca26\"], [1.0, \"#f0f921\"]], \"type\": \"histogram2d\"}], \"histogram2dcontour\": [{\"colorbar\": {\"outlinewidth\": 0, \"ticks\": \"\"}, \"colorscale\": [[0.0, \"#0d0887\"], [0.1111111111111111, \"#46039f\"], [0.2222222222222222, \"#7201a8\"], [0.3333333333333333, \"#9c179e\"], [0.4444444444444444, \"#bd3786\"], [0.5555555555555556, \"#d8576b\"], [0.6666666666666666, \"#ed7953\"], [0.7777777777777778, \"#fb9f3a\"], [0.8888888888888888, \"#fdca26\"], [1.0, \"#f0f921\"]], \"type\": \"histogram2dcontour\"}], \"mesh3d\": [{\"colorbar\": {\"outlinewidth\": 0, \"ticks\": \"\"}, \"type\": \"mesh3d\"}], \"parcoords\": [{\"line\": {\"colorbar\": {\"outlinewidth\": 0, \"ticks\": \"\"}}, \"type\": \"parcoords\"}], \"pie\": [{\"automargin\": true, \"type\": \"pie\"}], \"scatter\": [{\"marker\": {\"colorbar\": {\"outlinewidth\": 0, \"ticks\": \"\"}}, \"type\": \"scatter\"}], \"scatter3d\": [{\"line\": {\"colorbar\": {\"outlinewidth\": 0, \"ticks\": \"\"}}, \"marker\": {\"colorbar\": {\"outlinewidth\": 0, \"ticks\": \"\"}}, \"type\": \"scatter3d\"}], \"scattercarpet\": [{\"marker\": {\"colorbar\": {\"outlinewidth\": 0, \"ticks\": \"\"}}, \"type\": \"scattercarpet\"}], \"scattergeo\": [{\"marker\": {\"colorbar\": {\"outlinewidth\": 0, \"ticks\": \"\"}}, \"type\": \"scattergeo\"}], \"scattergl\": [{\"marker\": {\"colorbar\": {\"outlinewidth\": 0, \"ticks\": \"\"}}, \"type\": \"scattergl\"}], \"scattermapbox\": [{\"marker\": {\"colorbar\": {\"outlinewidth\": 0, \"ticks\": \"\"}}, \"type\": \"scattermapbox\"}], \"scatterpolar\": [{\"marker\": {\"colorbar\": {\"outlinewidth\": 0, \"ticks\": \"\"}}, \"type\": \"scatterpolar\"}], \"scatterpolargl\": [{\"marker\": {\"colorbar\": {\"outlinewidth\": 0, \"ticks\": \"\"}}, \"type\": \"scatterpolargl\"}], \"scatterternary\": [{\"marker\": {\"colorbar\": {\"outlinewidth\": 0, \"ticks\": \"\"}}, \"type\": \"scatterternary\"}], \"surface\": [{\"colorbar\": {\"outlinewidth\": 0, \"ticks\": \"\"}, \"colorscale\": [[0.0, \"#0d0887\"], [0.1111111111111111, \"#46039f\"], [0.2222222222222222, \"#7201a8\"], [0.3333333333333333, \"#9c179e\"], [0.4444444444444444, \"#bd3786\"], [0.5555555555555556, \"#d8576b\"], [0.6666666666666666, \"#ed7953\"], [0.7777777777777778, \"#fb9f3a\"], [0.8888888888888888, \"#fdca26\"], [1.0, \"#f0f921\"]], \"type\": \"surface\"}], \"table\": [{\"cells\": {\"fill\": {\"color\": \"#EBF0F8\"}, \"line\": {\"color\": \"white\"}}, \"header\": {\"fill\": {\"color\": \"#C8D4E3\"}, \"line\": {\"color\": \"white\"}}, \"type\": \"table\"}]}, \"layout\": {\"annotationdefaults\": {\"arrowcolor\": \"#2a3f5f\", \"arrowhead\": 0, \"arrowwidth\": 1}, \"coloraxis\": {\"colorbar\": {\"outlinewidth\": 0, \"ticks\": \"\"}}, \"colorscale\": {\"diverging\": [[0, \"#8e0152\"], [0.1, \"#c51b7d\"], [0.2, \"#de77ae\"], [0.3, \"#f1b6da\"], [0.4, \"#fde0ef\"], [0.5, \"#f7f7f7\"], [0.6, \"#e6f5d0\"], [0.7, \"#b8e186\"], [0.8, \"#7fbc41\"], [0.9, \"#4d9221\"], [1, \"#276419\"]], \"sequential\": [[0.0, \"#0d0887\"], [0.1111111111111111, \"#46039f\"], [0.2222222222222222, \"#7201a8\"], [0.3333333333333333, \"#9c179e\"], [0.4444444444444444, \"#bd3786\"], [0.5555555555555556, \"#d8576b\"], [0.6666666666666666, \"#ed7953\"], [0.7777777777777778, \"#fb9f3a\"], [0.8888888888888888, \"#fdca26\"], [1.0, \"#f0f921\"]], \"sequentialminus\": [[0.0, \"#0d0887\"], [0.1111111111111111, \"#46039f\"], [0.2222222222222222, \"#7201a8\"], [0.3333333333333333, \"#9c179e\"], [0.4444444444444444, \"#bd3786\"], [0.5555555555555556, \"#d8576b\"], [0.6666666666666666, \"#ed7953\"], [0.7777777777777778, \"#fb9f3a\"], [0.8888888888888888, \"#fdca26\"], [1.0, \"#f0f921\"]]}, \"colorway\": [\"#636efa\", \"#EF553B\", \"#00cc96\", \"#ab63fa\", \"#FFA15A\", \"#19d3f3\", \"#FF6692\", \"#B6E880\", \"#FF97FF\", \"#FECB52\"], \"font\": {\"color\": \"#2a3f5f\"}, \"geo\": {\"bgcolor\": \"white\", \"lakecolor\": \"white\", \"landcolor\": \"#E5ECF6\", \"showlakes\": true, \"showland\": true, \"subunitcolor\": \"white\"}, \"hoverlabel\": {\"align\": \"left\"}, \"hovermode\": \"closest\", \"mapbox\": {\"style\": \"light\"}, \"paper_bgcolor\": \"white\", \"plot_bgcolor\": \"#E5ECF6\", \"polar\": {\"angularaxis\": {\"gridcolor\": \"white\", \"linecolor\": \"white\", \"ticks\": \"\"}, \"bgcolor\": \"#E5ECF6\", \"radialaxis\": {\"gridcolor\": \"white\", \"linecolor\": \"white\", \"ticks\": \"\"}}, \"scene\": {\"xaxis\": {\"backgroundcolor\": \"#E5ECF6\", \"gridcolor\": \"white\", \"gridwidth\": 2, \"linecolor\": \"white\", \"showbackground\": true, \"ticks\": \"\", \"zerolinecolor\": \"white\"}, \"yaxis\": {\"backgroundcolor\": \"#E5ECF6\", \"gridcolor\": \"white\", \"gridwidth\": 2, \"linecolor\": \"white\", \"showbackground\": true, \"ticks\": \"\", \"zerolinecolor\": \"white\"}, \"zaxis\": {\"backgroundcolor\": \"#E5ECF6\", \"gridcolor\": \"white\", \"gridwidth\": 2, \"linecolor\": \"white\", \"showbackground\": true, \"ticks\": \"\", \"zerolinecolor\": \"white\"}}, \"shapedefaults\": {\"line\": {\"color\": \"#2a3f5f\"}}, \"ternary\": {\"aaxis\": {\"gridcolor\": \"white\", \"linecolor\": \"white\", \"ticks\": \"\"}, \"baxis\": {\"gridcolor\": \"white\", \"linecolor\": \"white\", \"ticks\": \"\"}, \"bgcolor\": \"#E5ECF6\", \"caxis\": {\"gridcolor\": \"white\", \"linecolor\": \"white\", \"ticks\": \"\"}}, \"title\": {\"x\": 0.05}, \"xaxis\": {\"automargin\": true, \"gridcolor\": \"white\", \"linecolor\": \"white\", \"ticks\": \"\", \"title\": {\"standoff\": 15}, \"zerolinecolor\": \"white\", \"zerolinewidth\": 2}, \"yaxis\": {\"automargin\": true, \"gridcolor\": \"white\", \"linecolor\": \"white\", \"ticks\": \"\", \"title\": {\"standoff\": 15}, \"zerolinecolor\": \"white\", \"zerolinewidth\": 2}}}, \"xaxis\": {\"anchor\": \"y\", \"domain\": [0.0, 1.0], \"title\": {\"text\": \"x\"}}, \"yaxis\": {\"anchor\": \"x\", \"domain\": [0.0, 1.0], \"title\": {\"text\": \"y\"}}},\n",
       "                        {\"responsive\": true}\n",
       "                    ).then(function(){\n",
       "                            \n",
       "var gd = document.getElementById('574a3ec8-da38-4319-9be8-7f050e24b647');\n",
       "var x = new MutationObserver(function (mutations, observer) {{\n",
       "        var display = window.getComputedStyle(gd).display;\n",
       "        if (!display || display === 'none') {{\n",
       "            console.log([gd, 'removed!']);\n",
       "            Plotly.purge(gd);\n",
       "            observer.disconnect();\n",
       "        }}\n",
       "}});\n",
       "\n",
       "// Listen for the removal of the full notebook cells\n",
       "var notebookContainer = gd.closest('#notebook-container');\n",
       "if (notebookContainer) {{\n",
       "    x.observe(notebookContainer, {childList: true});\n",
       "}}\n",
       "\n",
       "// Listen for the clearing of the current output cell\n",
       "var outputEl = gd.closest('.output');\n",
       "if (outputEl) {{\n",
       "    x.observe(outputEl, {childList: true});\n",
       "}}\n",
       "\n",
       "                        })\n",
       "                };\n",
       "                });\n",
       "            </script>\n",
       "        </div>"
      ]
     },
     "metadata": {},
     "output_type": "display_data"
    }
   ],
   "source": [
    "v1.scatterplot(x= data['cement'], y= data['strength'])"
   ]
  },
  {
   "cell_type": "code",
   "execution_count": 97,
   "metadata": {},
   "outputs": [
    {
     "data": {
      "image/png": "[encoded data removed]",
      "text/plain": [
       "<Figure size 1440x1440 with 2 Axes>"
      ]
     },
     "metadata": {
      "needs_background": "light"
     },
     "output_type": "display_data"
    }
   ],
   "source": [
    "v1.Heatmap(data=data)"
   ]
  },
  {
   "cell_type": "code",
   "execution_count": 100,
   "metadata": {},
   "outputs": [
    {
     "data": {
      "text/plain": [
       "<Figure size 1440x1440 with 0 Axes>"
      ]
     },
     "metadata": {},
     "output_type": "display_data"
    },
    {
     "data": {
      "image/png": "[encoded data removed]",
      "text/plain": [
       "<Figure size 720x720 with 3 Axes>"
      ]
     },
     "metadata": {
      "needs_background": "light"
     },
     "output_type": "display_data"
    }
   ],
   "source": [
    "v1.Jointplot(x=data['cement'], y=data['strength'])"
   ]
  },
  {
   "cell_type": "code",
   "execution_count": 108,
   "metadata": {},
   "outputs": [],
   "source": [
    "X = data.iloc[:,:8]\n",
    "y = data.iloc[:,8:]"
   ]
  },
  {
   "cell_type": "code",
   "execution_count": 109,
   "metadata": {},
   "outputs": [
    {
     "data": {
      "text/html": [
       "<div>\n",
       "<style scoped>\n",
       "    .dataframe tbody tr th:only-of-type {\n",
       "        vertical-align: middle;\n",
       "    }\n",
       "\n",
       "    .dataframe tbody tr th {\n",
       "        vertical-align: top;\n",
       "    }\n",
       "\n",
       "    .dataframe thead th {\n",
       "        text-align: right;\n",
       "    }\n",
       "</style>\n",
       "<table border=\"1\" class=\"dataframe\">\n",
       "  <thead>\n",
       "    <tr style=\"text-align: right;\">\n",
       "      <th></th>\n",
       "      <th>cement</th>\n",
       "      <th>slag</th>\n",
       "      <th>ash</th>\n",
       "      <th>water</th>\n",
       "      <th>superplastic</th>\n",
       "      <th>coarseagg</th>\n",
       "      <th>fineagg</th>\n",
       "      <th>age</th>\n",
       "    </tr>\n",
       "  </thead>\n",
       "  <tbody>\n",
       "    <tr>\n",
       "      <th>0</th>\n",
       "      <td>141.3</td>\n",
       "      <td>212.0</td>\n",
       "      <td>0.0</td>\n",
       "      <td>203.5</td>\n",
       "      <td>0.0</td>\n",
       "      <td>971.8</td>\n",
       "      <td>748.5</td>\n",
       "      <td>28</td>\n",
       "    </tr>\n",
       "    <tr>\n",
       "      <th>1</th>\n",
       "      <td>168.9</td>\n",
       "      <td>42.2</td>\n",
       "      <td>124.3</td>\n",
       "      <td>158.3</td>\n",
       "      <td>10.8</td>\n",
       "      <td>1080.8</td>\n",
       "      <td>796.2</td>\n",
       "      <td>14</td>\n",
       "    </tr>\n",
       "    <tr>\n",
       "      <th>2</th>\n",
       "      <td>250.0</td>\n",
       "      <td>0.0</td>\n",
       "      <td>95.7</td>\n",
       "      <td>187.4</td>\n",
       "      <td>5.5</td>\n",
       "      <td>956.9</td>\n",
       "      <td>861.2</td>\n",
       "      <td>28</td>\n",
       "    </tr>\n",
       "    <tr>\n",
       "      <th>3</th>\n",
       "      <td>266.0</td>\n",
       "      <td>114.0</td>\n",
       "      <td>0.0</td>\n",
       "      <td>228.0</td>\n",
       "      <td>0.0</td>\n",
       "      <td>932.0</td>\n",
       "      <td>670.0</td>\n",
       "      <td>28</td>\n",
       "    </tr>\n",
       "    <tr>\n",
       "      <th>4</th>\n",
       "      <td>154.8</td>\n",
       "      <td>183.4</td>\n",
       "      <td>0.0</td>\n",
       "      <td>193.3</td>\n",
       "      <td>9.1</td>\n",
       "      <td>1047.4</td>\n",
       "      <td>696.7</td>\n",
       "      <td>28</td>\n",
       "    </tr>\n",
       "  </tbody>\n",
       "</table>\n",
       "</div>"
      ],
      "text/plain": [
       "   cement   slag    ash  water  superplastic  coarseagg  fineagg  age\n",
       "0   141.3  212.0    0.0  203.5           0.0      971.8    748.5   28\n",
       "1   168.9   42.2  124.3  158.3          10.8     1080.8    796.2   14\n",
       "2   250.0    0.0   95.7  187.4           5.5      956.9    861.2   28\n",
       "3   266.0  114.0    0.0  228.0           0.0      932.0    670.0   28\n",
       "4   154.8  183.4    0.0  193.3           9.1     1047.4    696.7   28"
      ]
     },
     "execution_count": 109,
     "metadata": {},
     "output_type": "execute_result"
    }
   ],
   "source": [
    "X.head()"
   ]
  },
  {
   "cell_type": "code",
   "execution_count": 110,
   "metadata": {},
   "outputs": [
    {
     "data": {
      "text/html": [
       "<div>\n",
       "<style scoped>\n",
       "    .dataframe tbody tr th:only-of-type {\n",
       "        vertical-align: middle;\n",
       "    }\n",
       "\n",
       "    .dataframe tbody tr th {\n",
       "        vertical-align: top;\n",
       "    }\n",
       "\n",
       "    .dataframe thead th {\n",
       "        text-align: right;\n",
       "    }\n",
       "</style>\n",
       "<table border=\"1\" class=\"dataframe\">\n",
       "  <thead>\n",
       "    <tr style=\"text-align: right;\">\n",
       "      <th></th>\n",
       "      <th>strength</th>\n",
       "    </tr>\n",
       "  </thead>\n",
       "  <tbody>\n",
       "    <tr>\n",
       "      <th>0</th>\n",
       "      <td>29.89</td>\n",
       "    </tr>\n",
       "    <tr>\n",
       "      <th>1</th>\n",
       "      <td>23.51</td>\n",
       "    </tr>\n",
       "    <tr>\n",
       "      <th>2</th>\n",
       "      <td>29.22</td>\n",
       "    </tr>\n",
       "    <tr>\n",
       "      <th>3</th>\n",
       "      <td>45.85</td>\n",
       "    </tr>\n",
       "    <tr>\n",
       "      <th>4</th>\n",
       "      <td>18.29</td>\n",
       "    </tr>\n",
       "  </tbody>\n",
       "</table>\n",
       "</div>"
      ],
      "text/plain": [
       "   strength\n",
       "0     29.89\n",
       "1     23.51\n",
       "2     29.22\n",
       "3     45.85\n",
       "4     18.29"
      ]
     },
     "execution_count": 110,
     "metadata": {},
     "output_type": "execute_result"
    }
   ],
   "source": [
    "y.head()"
   ]
  },
  {
   "cell_type": "markdown",
   "metadata": {},
   "source": [
    "<a id = \"ref5\"></a>\n",
    "<h2>Model Building</h2>"
   ]
  },
  {
   "cell_type": "code",
   "execution_count": 125,
   "metadata": {},
   "outputs": [],
   "source": [
    "def linearmodel(X, y):\n",
    "    X_train,X_test,y_train,y_test = train_test_split(X,y, test_size = 0.2, random_state= 9)\n",
    "    reg = linear_model.LinearRegression()\n",
    "    reg.fit(X_train, y_train)\n",
    "    y_pred = reg.predict(X_test)\n",
    "    print('Intercept',reg.intercept_)\n",
    "    print(\"R2_score : \", r2_score(y_test, y_pred))\n",
    "    print(\"mean_squared_error : \", mean_squared_error(y_test, y_pred))\n",
    "    \n",
    "    importance = reg.coef_[0]\n",
    "    # summarize feature importance\n",
    "    for i,j in enumerate(importance):\n",
    "        print('Feature: %0d, Score: %.5f' % (i,j))\n",
    "    # plot feature importance\n",
    "    plt.bar([x for x in range(len(importance))], importance)\n",
    "    plt.show()\n",
    "    \n",
    "    "
   ]
  },
  {
   "cell_type": "code",
   "execution_count": 126,
   "metadata": {},
   "outputs": [
    {
     "name": "stdout",
     "output_type": "stream",
     "text": [
      "Intercept [-18.27859757]\n",
      "R2_score :  0.6299972335030755\n",
      "mean_squared_error :  105.81697802031906\n",
      "Feature: 0, Score: 0.11783\n",
      "Feature: 1, Score: 0.10296\n",
      "Feature: 2, Score: 0.08647\n",
      "Feature: 3, Score: -0.15012\n",
      "Feature: 4, Score: 0.33327\n",
      "Feature: 5, Score: 0.01617\n",
      "Feature: 6, Score: 0.01725\n",
      "Feature: 7, Score: 0.10930\n"
     ]
    },
    {
     "data": {
      "image/png": "[encoded data removed]",
      "text/plain": [
       "<Figure size 432x288 with 1 Axes>"
      ]
     },
     "metadata": {
      "needs_background": "light"
     },
     "output_type": "display_data"
    }
   ],
   "source": [
    "linearmodel(X,y)"
   ]
  },
  {
   "cell_type": "code",
   "execution_count": 127,
   "metadata": {},
   "outputs": [],
   "source": [
    "from sklearn.preprocessing import Normalizer\n",
    "\n",
    "data_n = Normalizer().fit_transform(data)\n",
    "data_n = pd.DataFrame(data_n)"
   ]
  },
  {
   "cell_type": "code",
   "execution_count": 128,
   "metadata": {},
   "outputs": [],
   "source": [
    "X_n = data_n.iloc[:,:8]\n",
    "y_n = data_n.iloc[:,8:]"
   ]
  },
  {
   "cell_type": "code",
   "execution_count": 129,
   "metadata": {},
   "outputs": [
    {
     "name": "stdout",
     "output_type": "stream",
     "text": [
      "Intercept [-588.88038146]\n",
      "R2_score :  0.6459038199761218\n",
      "mean_squared_error :  101.26785822012795\n",
      "Feature: 0, Score: 295.27080\n",
      "Feature: 1, Score: 176.87272\n",
      "Feature: 2, Score: 128.04392\n",
      "Feature: 3, Score: -204.35622\n",
      "Feature: 4, Score: 313.43196\n",
      "Feature: 5, Score: 466.95945\n",
      "Feature: 6, Score: 366.73037\n",
      "Feature: 7, Score: 216.76386\n"
     ]
    },
    {
     "data": {
      "image/png": "[encoded data removed]",
      "text/plain": [
       "<Figure size 432x288 with 1 Axes>"
      ]
     },
     "metadata": {
      "needs_background": "light"
     },
     "output_type": "display_data"
    }
   ],
   "source": [
    "linearmodel(X_n, y)"
   ]
  },
  {
   "cell_type": "code",
   "execution_count": 130,
   "metadata": {},
   "outputs": [],
   "source": [
    "from sklearn.preprocessing import StandardScaler\n",
    "scaler = StandardScaler().fit_transform(X)\n",
    "data_std = pd.DataFrame(scaler)"
   ]
  },
  {
   "cell_type": "code",
   "execution_count": 131,
   "metadata": {},
   "outputs": [],
   "source": [
    "X_std = data_std.iloc[:, :8]\n",
    "y_std = data.iloc[:, 8:]"
   ]
  },
  {
   "cell_type": "code",
   "execution_count": 132,
   "metadata": {},
   "outputs": [
    {
     "data": {
      "text/html": [
       "<div>\n",
       "<style scoped>\n",
       "    .dataframe tbody tr th:only-of-type {\n",
       "        vertical-align: middle;\n",
       "    }\n",
       "\n",
       "    .dataframe tbody tr th {\n",
       "        vertical-align: top;\n",
       "    }\n",
       "\n",
       "    .dataframe thead th {\n",
       "        text-align: right;\n",
       "    }\n",
       "</style>\n",
       "<table border=\"1\" class=\"dataframe\">\n",
       "  <thead>\n",
       "    <tr style=\"text-align: right;\">\n",
       "      <th></th>\n",
       "      <th>0</th>\n",
       "      <th>1</th>\n",
       "      <th>2</th>\n",
       "      <th>3</th>\n",
       "      <th>4</th>\n",
       "      <th>5</th>\n",
       "      <th>6</th>\n",
       "      <th>7</th>\n",
       "    </tr>\n",
       "  </thead>\n",
       "  <tbody>\n",
       "    <tr>\n",
       "      <th>0</th>\n",
       "      <td>-1.339017</td>\n",
       "      <td>1.601441</td>\n",
       "      <td>-0.847144</td>\n",
       "      <td>1.027590</td>\n",
       "      <td>-1.039143</td>\n",
       "      <td>-0.014398</td>\n",
       "      <td>-0.312970</td>\n",
       "      <td>-0.279733</td>\n",
       "    </tr>\n",
       "    <tr>\n",
       "      <th>1</th>\n",
       "      <td>-1.074790</td>\n",
       "      <td>-0.367541</td>\n",
       "      <td>1.096078</td>\n",
       "      <td>-1.090116</td>\n",
       "      <td>0.769617</td>\n",
       "      <td>1.388141</td>\n",
       "      <td>0.282260</td>\n",
       "      <td>-0.501465</td>\n",
       "    </tr>\n",
       "    <tr>\n",
       "      <th>2</th>\n",
       "      <td>-0.298384</td>\n",
       "      <td>-0.856888</td>\n",
       "      <td>0.648965</td>\n",
       "      <td>0.273274</td>\n",
       "      <td>-0.118015</td>\n",
       "      <td>-0.206121</td>\n",
       "      <td>1.093371</td>\n",
       "      <td>-0.279733</td>\n",
       "    </tr>\n",
       "    <tr>\n",
       "      <th>3</th>\n",
       "      <td>-0.145209</td>\n",
       "      <td>0.465044</td>\n",
       "      <td>-0.847144</td>\n",
       "      <td>2.175461</td>\n",
       "      <td>-1.039143</td>\n",
       "      <td>-0.526517</td>\n",
       "      <td>-1.292542</td>\n",
       "      <td>-0.279733</td>\n",
       "    </tr>\n",
       "    <tr>\n",
       "      <th>4</th>\n",
       "      <td>-1.209776</td>\n",
       "      <td>1.269798</td>\n",
       "      <td>-0.847144</td>\n",
       "      <td>0.549700</td>\n",
       "      <td>0.484905</td>\n",
       "      <td>0.958372</td>\n",
       "      <td>-0.959363</td>\n",
       "      <td>-0.279733</td>\n",
       "    </tr>\n",
       "  </tbody>\n",
       "</table>\n",
       "</div>"
      ],
      "text/plain": [
       "          0         1         2         3         4         5         6  \\\n",
       "0 -1.339017  1.601441 -0.847144  1.027590 -1.039143 -0.014398 -0.312970   \n",
       "1 -1.074790 -0.367541  1.096078 -1.090116  0.769617  1.388141  0.282260   \n",
       "2 -0.298384 -0.856888  0.648965  0.273274 -0.118015 -0.206121  1.093371   \n",
       "3 -0.145209  0.465044 -0.847144  2.175461 -1.039143 -0.526517 -1.292542   \n",
       "4 -1.209776  1.269798 -0.847144  0.549700  0.484905  0.958372 -0.959363   \n",
       "\n",
       "          7  \n",
       "0 -0.279733  \n",
       "1 -0.501465  \n",
       "2 -0.279733  \n",
       "3 -0.279733  \n",
       "4 -0.279733  "
      ]
     },
     "execution_count": 132,
     "metadata": {},
     "output_type": "execute_result"
    }
   ],
   "source": [
    "X_std.head()"
   ]
  },
  {
   "cell_type": "code",
   "execution_count": 133,
   "metadata": {},
   "outputs": [
    {
     "name": "stdout",
     "output_type": "stream",
     "text": [
      "Intercept [36.01792345]\n",
      "R2_score :  0.6299972335030755\n",
      "mean_squared_error :  105.81697802031908\n",
      "Feature: 0, Score: 12.30806\n",
      "Feature: 1, Score: 8.87873\n",
      "Feature: 2, Score: 5.53091\n",
      "Feature: 3, Score: -3.20422\n",
      "Feature: 4, Score: 1.98995\n",
      "Feature: 5, Score: 1.25644\n",
      "Feature: 6, Score: 1.38218\n",
      "Feature: 7, Score: 6.90109\n"
     ]
    },
    {
     "data": {
      "image/png": "[encoded data removed]",
      "text/plain": [
       "<Figure size 432x288 with 1 Axes>"
      ]
     },
     "metadata": {
      "needs_background": "light"
     },
     "output_type": "display_data"
    }
   ],
   "source": [
    "linearmodel(X_std,y)"
   ]
  },
  {
   "cell_type": "code",
   "execution_count": 134,
   "metadata": {},
   "outputs": [
    {
     "name": "stdout",
     "output_type": "stream",
     "text": [
      "[ True  True  True  True  True False False  True]\n",
      "[1 1 1 1 1 3 2 1]\n"
     ]
    },
    {
     "name": "stderr",
     "output_type": "stream",
     "text": [
      "C:\\Users\\rakes\\Anaconda3\\lib\\site-packages\\sklearn\\utils\\validation.py:724: DataConversionWarning:\n",
      "\n",
      "A column-vector y was passed when a 1d array was expected. Please change the shape of y to (n_samples, ), for example using ravel().\n",
      "\n"
     ]
    }
   ],
   "source": [
    "#Feature Selection \n",
    "from sklearn.feature_selection import RFE\n",
    "\n",
    "logreg = linear_model.LinearRegression()\n",
    "rfe = RFE(logreg, 6)\n",
    "rfe = rfe.fit(X_train, y_train)\n",
    "\n",
    "print(rfe.support_)\n",
    "print(rfe.ranking_)"
   ]
  },
  {
   "cell_type": "code",
   "execution_count": 135,
   "metadata": {},
   "outputs": [],
   "source": [
    "d = rfe.support_\n",
    "\n",
    "g = X.columns\n",
    "\n",
    "a = g[d]\n",
    "\n",
    "X_f = X[a]"
   ]
  },
  {
   "cell_type": "code",
   "execution_count": 136,
   "metadata": {},
   "outputs": [
    {
     "name": "stdout",
     "output_type": "stream",
     "text": [
      "Intercept [27.29155288]\n",
      "R2_score :  0.6274628473222501\n",
      "mean_squared_error :  106.54178634899849\n",
      "Feature: 0, Score: 0.10545\n",
      "Feature: 1, Score: 0.08779\n",
      "Feature: 2, Score: 0.06998\n",
      "Feature: 3, Score: -0.20900\n",
      "Feature: 4, Score: 0.28685\n",
      "Feature: 5, Score: 0.10871\n"
     ]
    },
    {
     "data": {
      "image/png": "[encoded data removed]",
      "text/plain": [
       "<Figure size 432x288 with 1 Axes>"
      ]
     },
     "metadata": {
      "needs_background": "light"
     },
     "output_type": "display_data"
    }
   ],
   "source": [
    "linearmodel(X_f,y)"
   ]
  },
  {
   "cell_type": "code",
   "execution_count": 70,
   "metadata": {},
   "outputs": [
    {
     "name": "stdout",
     "output_type": "stream",
     "text": [
      "[15.229736835039063, 3.442254211877823, 4.155409480198613, 79.71718322439241, 5.426055391925735, 84.67589012649955, 72.23838841153335, 1.718995020540424]\n"
     ]
    }
   ],
   "source": [
    "#Multi-Collinearity\n",
    "import numpy as np\n",
    "X = np.array(X)\n",
    "from statsmodels.stats.outliers_influence import variance_inflation_factor\n",
    "\n",
    "vif = pd.DataFrame()\n",
    "vif = [variance_inflation_factor(X, i) for i in range(X.shape[1])]\n",
    "print(vif)\n",
    "X = pd.DataFrame(X)"
   ]
  },
  {
   "cell_type": "code",
   "execution_count": null,
   "metadata": {},
   "outputs": [],
   "source": []
  }
 ],
 "metadata": {
  "kernelspec": {
   "display_name": "Python 3",
   "language": "python",
   "name": "python3"
  },
  "language_info": {
   "codemirror_mode": {
    "name": "ipython",
    "version": 3
   },
   "file_extension": ".py",
   "mimetype": "text/x-python",
   "name": "python",
   "nbconvert_exporter": "python",
   "pygments_lexer": "ipython3",
   "version": "3.7.3"
  },
  "toc": {
   "base_numbering": 1,
   "nav_menu": {},
   "number_sections": true,
   "sideBar": true,
   "skip_h1_title": false,
   "title_cell": "Table of Contents",
   "title_sidebar": "Contents",
   "toc_cell": false,
   "toc_position": {},
   "toc_section_display": true,
   "toc_window_display": false
  }
 },
 "nbformat": 4,
 "nbformat_minor": 2
}
